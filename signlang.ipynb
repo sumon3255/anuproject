{
 "cells": [
  {
   "cell_type": "markdown",
   "id": "fdaae109",
   "metadata": {},
   "source": [
    "# 1. Import and Install Dependencies"
   ]
  },
  {
   "cell_type": "code",
   "execution_count": 2,
   "id": "6e9cc695",
   "metadata": {},
   "outputs": [],
   "source": [
    "# !pip install tensorflow==2.4.1 tensorflow-gpu==2.4.1 opencv-python mediapipe sklearn matplotlib"
   ]
  },
  {
   "cell_type": "code",
   "execution_count": 1,
   "id": "b4600087",
   "metadata": {},
   "outputs": [],
   "source": [
    "import cv2\n",
    "import numpy as np\n",
    "import os\n",
    "from matplotlib import pyplot as plt\n",
    "import time\n",
    "import mediapipe as mp"
   ]
  },
  {
   "cell_type": "markdown",
   "id": "d972cb04",
   "metadata": {},
   "source": [
    "# 2. Keypoints using MP Holistic"
   ]
  },
  {
   "cell_type": "code",
   "execution_count": 2,
   "id": "5e6f205d",
   "metadata": {},
   "outputs": [],
   "source": [
    "mp_holistic = mp.solutions.holistic # Holistic model for detection\n",
    "mp_drawing = mp.solutions.drawing_utils # Drawing utilities for draw them"
   ]
  },
  {
   "cell_type": "code",
   "execution_count": 3,
   "id": "3bd38d85",
   "metadata": {},
   "outputs": [],
   "source": [
    "def mediapipe_detection(image, model):\n",
    "    image = cv2.cvtColor(image, cv2.COLOR_BGR2RGB) # COLOR CONVERSION BGR 2 RGB\n",
    "    image.flags.writeable = False                  # Image is no longer writeable\n",
    "    results = model.process(image)                 # Make prediction\n",
    "    image.flags.writeable = True                   # Image is now writeable \n",
    "    image = cv2.cvtColor(image, cv2.COLOR_RGB2BGR) # COLOR COVERSION RGB 2 BGR\n",
    "    return image, results"
   ]
  },
  {
   "cell_type": "code",
   "execution_count": 4,
   "id": "7fe684b5",
   "metadata": {},
   "outputs": [],
   "source": [
    "def draw_landmarks(image, results):\n",
    "    mp_drawing.draw_landmarks(image, results.face_landmarks, mp_holistic.FACEMESH_CONTOURS) # Draw face connections\n",
    "    mp_drawing.draw_landmarks(image, results.pose_landmarks, mp_holistic.POSE_CONNECTIONS) # Draw pose connections\n",
    "    mp_drawing.draw_landmarks(image, results.left_hand_landmarks, mp_holistic.HAND_CONNECTIONS) # Draw left hand connections\n",
    "    mp_drawing.draw_landmarks(image, results.right_hand_landmarks, mp_holistic.HAND_CONNECTIONS) # Draw right hand connections"
   ]
  },
  {
   "cell_type": "code",
   "execution_count": 16,
   "id": "7995d90a",
   "metadata": {},
   "outputs": [],
   "source": [
    "def draw_styled_landmarks(image, results):\n",
    "    # Draw face connections\n",
    "    mp_drawing.draw_landmarks(image, results.face_landmarks,mp_holistic.FACEMESH_CONTOURS, \n",
    "                             mp_drawing.DrawingSpec(color=(80,110,10), thickness=1, circle_radius=1), \n",
    "                             mp_drawing.DrawingSpec(color=(80,256,121), thickness=1, circle_radius=1)\n",
    "                             ) \n",
    "    # Draw pose connections\n",
    "#     mp_drawing.draw_landmarks(image, results.pose_landmarks, mp_holistic.POSE_CONNECTIONS,\n",
    "#                              mp_drawing.DrawingSpec(color=(80,22,10), thickness=2, circle_radius=4), \n",
    "#                              mp_drawing.DrawingSpec(color=(80,44,121), thickness=2, circle_radius=2)\n",
    "#                              ) \n",
    "    # Draw left hand connections\n",
    "#     mp_drawing.draw_landmarks(image, results.left_hand_landmarks, mp_holistic.HAND_CONNECTIONS, \n",
    "#                              mp_drawing.DrawingSpec(color=(121,22,76), thickness=2, circle_radius=4), \n",
    "#                              mp_drawing.DrawingSpec(color=(121,44,250), thickness=2, circle_radius=2)\n",
    "#                              ) \n",
    "#     # Draw right hand connections  \n",
    "#     mp_drawing.draw_landmarks(image, results.right_hand_landmarks, mp_holistic.HAND_CONNECTIONS, \n",
    "#                              mp_drawing.DrawingSpec(color=(245,117,66), thickness=2, circle_radius=4), \n",
    "#                              mp_drawing.DrawingSpec(color=(245,66,230), thickness=2, circle_radius=2))"
   ]
  },
  {
   "cell_type": "code",
   "execution_count": 84,
   "id": "487e615e",
   "metadata": {},
   "outputs": [],
   "source": [
    "# cv2.cvtColor??"
   ]
  },
  {
   "cell_type": "code",
   "execution_count": 15,
   "id": "8e08a528",
   "metadata": {},
   "outputs": [
    {
     "name": "stdout",
     "output_type": "stream",
     "text": [
      "<class 'mediapipe.python.solution_base.SolutionOutputs'>\n",
      "<class 'mediapipe.python.solution_base.SolutionOutputs'>\n",
      "<class 'mediapipe.python.solution_base.SolutionOutputs'>\n",
      "<class 'mediapipe.python.solution_base.SolutionOutputs'>\n",
      "<class 'mediapipe.python.solution_base.SolutionOutputs'>\n",
      "<class 'mediapipe.python.solution_base.SolutionOutputs'>\n",
      "<class 'mediapipe.python.solution_base.SolutionOutputs'>\n",
      "<class 'mediapipe.python.solution_base.SolutionOutputs'>\n",
      "<class 'mediapipe.python.solution_base.SolutionOutputs'>\n",
      "<class 'mediapipe.python.solution_base.SolutionOutputs'>\n",
      "<class 'mediapipe.python.solution_base.SolutionOutputs'>\n",
      "<class 'mediapipe.python.solution_base.SolutionOutputs'>\n",
      "<class 'mediapipe.python.solution_base.SolutionOutputs'>\n",
      "<class 'mediapipe.python.solution_base.SolutionOutputs'>\n",
      "<class 'mediapipe.python.solution_base.SolutionOutputs'>\n",
      "<class 'mediapipe.python.solution_base.SolutionOutputs'>\n",
      "<class 'mediapipe.python.solution_base.SolutionOutputs'>\n",
      "<class 'mediapipe.python.solution_base.SolutionOutputs'>\n",
      "<class 'mediapipe.python.solution_base.SolutionOutputs'>\n",
      "<class 'mediapipe.python.solution_base.SolutionOutputs'>\n",
      "<class 'mediapipe.python.solution_base.SolutionOutputs'>\n",
      "<class 'mediapipe.python.solution_base.SolutionOutputs'>\n",
      "<class 'mediapipe.python.solution_base.SolutionOutputs'>\n",
      "<class 'mediapipe.python.solution_base.SolutionOutputs'>\n",
      "<class 'mediapipe.python.solution_base.SolutionOutputs'>\n",
      "<class 'mediapipe.python.solution_base.SolutionOutputs'>\n",
      "<class 'mediapipe.python.solution_base.SolutionOutputs'>\n",
      "<class 'mediapipe.python.solution_base.SolutionOutputs'>\n",
      "<class 'mediapipe.python.solution_base.SolutionOutputs'>\n",
      "<class 'mediapipe.python.solution_base.SolutionOutputs'>\n",
      "<class 'mediapipe.python.solution_base.SolutionOutputs'>\n",
      "<class 'mediapipe.python.solution_base.SolutionOutputs'>\n",
      "<class 'mediapipe.python.solution_base.SolutionOutputs'>\n",
      "<class 'mediapipe.python.solution_base.SolutionOutputs'>\n",
      "<class 'mediapipe.python.solution_base.SolutionOutputs'>\n",
      "<class 'mediapipe.python.solution_base.SolutionOutputs'>\n",
      "<class 'mediapipe.python.solution_base.SolutionOutputs'>\n",
      "<class 'mediapipe.python.solution_base.SolutionOutputs'>\n",
      "<class 'mediapipe.python.solution_base.SolutionOutputs'>\n",
      "<class 'mediapipe.python.solution_base.SolutionOutputs'>\n",
      "<class 'mediapipe.python.solution_base.SolutionOutputs'>\n",
      "<class 'mediapipe.python.solution_base.SolutionOutputs'>\n",
      "<class 'mediapipe.python.solution_base.SolutionOutputs'>\n",
      "<class 'mediapipe.python.solution_base.SolutionOutputs'>\n",
      "<class 'mediapipe.python.solution_base.SolutionOutputs'>\n",
      "<class 'mediapipe.python.solution_base.SolutionOutputs'>\n",
      "<class 'mediapipe.python.solution_base.SolutionOutputs'>\n",
      "<class 'mediapipe.python.solution_base.SolutionOutputs'>\n",
      "<class 'mediapipe.python.solution_base.SolutionOutputs'>\n",
      "<class 'mediapipe.python.solution_base.SolutionOutputs'>\n",
      "<class 'mediapipe.python.solution_base.SolutionOutputs'>\n",
      "<class 'mediapipe.python.solution_base.SolutionOutputs'>\n",
      "<class 'mediapipe.python.solution_base.SolutionOutputs'>\n",
      "<class 'mediapipe.python.solution_base.SolutionOutputs'>\n",
      "<class 'mediapipe.python.solution_base.SolutionOutputs'>\n",
      "<class 'mediapipe.python.solution_base.SolutionOutputs'>\n",
      "<class 'mediapipe.python.solution_base.SolutionOutputs'>\n",
      "<class 'mediapipe.python.solution_base.SolutionOutputs'>\n",
      "<class 'mediapipe.python.solution_base.SolutionOutputs'>\n",
      "<class 'mediapipe.python.solution_base.SolutionOutputs'>\n",
      "<class 'mediapipe.python.solution_base.SolutionOutputs'>\n",
      "<class 'mediapipe.python.solution_base.SolutionOutputs'>\n",
      "<class 'mediapipe.python.solution_base.SolutionOutputs'>\n",
      "<class 'mediapipe.python.solution_base.SolutionOutputs'>\n",
      "<class 'mediapipe.python.solution_base.SolutionOutputs'>\n",
      "<class 'mediapipe.python.solution_base.SolutionOutputs'>\n",
      "<class 'mediapipe.python.solution_base.SolutionOutputs'>\n",
      "<class 'mediapipe.python.solution_base.SolutionOutputs'>\n",
      "<class 'mediapipe.python.solution_base.SolutionOutputs'>\n",
      "<class 'mediapipe.python.solution_base.SolutionOutputs'>\n",
      "<class 'mediapipe.python.solution_base.SolutionOutputs'>\n",
      "<class 'mediapipe.python.solution_base.SolutionOutputs'>\n",
      "<class 'mediapipe.python.solution_base.SolutionOutputs'>\n",
      "<class 'mediapipe.python.solution_base.SolutionOutputs'>\n",
      "<class 'mediapipe.python.solution_base.SolutionOutputs'>\n",
      "<class 'mediapipe.python.solution_base.SolutionOutputs'>\n",
      "<class 'mediapipe.python.solution_base.SolutionOutputs'>\n",
      "<class 'mediapipe.python.solution_base.SolutionOutputs'>\n",
      "<class 'mediapipe.python.solution_base.SolutionOutputs'>\n",
      "<class 'mediapipe.python.solution_base.SolutionOutputs'>\n",
      "<class 'mediapipe.python.solution_base.SolutionOutputs'>\n",
      "<class 'mediapipe.python.solution_base.SolutionOutputs'>\n",
      "<class 'mediapipe.python.solution_base.SolutionOutputs'>\n",
      "<class 'mediapipe.python.solution_base.SolutionOutputs'>\n",
      "<class 'mediapipe.python.solution_base.SolutionOutputs'>\n",
      "<class 'mediapipe.python.solution_base.SolutionOutputs'>\n",
      "<class 'mediapipe.python.solution_base.SolutionOutputs'>\n",
      "<class 'mediapipe.python.solution_base.SolutionOutputs'>\n",
      "<class 'mediapipe.python.solution_base.SolutionOutputs'>\n",
      "<class 'mediapipe.python.solution_base.SolutionOutputs'>\n",
      "<class 'mediapipe.python.solution_base.SolutionOutputs'>\n",
      "<class 'mediapipe.python.solution_base.SolutionOutputs'>\n",
      "<class 'mediapipe.python.solution_base.SolutionOutputs'>\n",
      "<class 'mediapipe.python.solution_base.SolutionOutputs'>\n",
      "<class 'mediapipe.python.solution_base.SolutionOutputs'>\n",
      "<class 'mediapipe.python.solution_base.SolutionOutputs'>\n",
      "<class 'mediapipe.python.solution_base.SolutionOutputs'>\n",
      "<class 'mediapipe.python.solution_base.SolutionOutputs'>\n",
      "<class 'mediapipe.python.solution_base.SolutionOutputs'>\n",
      "<class 'mediapipe.python.solution_base.SolutionOutputs'>\n",
      "<class 'mediapipe.python.solution_base.SolutionOutputs'>\n",
      "<class 'mediapipe.python.solution_base.SolutionOutputs'>\n",
      "<class 'mediapipe.python.solution_base.SolutionOutputs'>\n",
      "<class 'mediapipe.python.solution_base.SolutionOutputs'>\n",
      "<class 'mediapipe.python.solution_base.SolutionOutputs'>\n",
      "<class 'mediapipe.python.solution_base.SolutionOutputs'>\n",
      "<class 'mediapipe.python.solution_base.SolutionOutputs'>\n",
      "<class 'mediapipe.python.solution_base.SolutionOutputs'>\n",
      "<class 'mediapipe.python.solution_base.SolutionOutputs'>\n",
      "<class 'mediapipe.python.solution_base.SolutionOutputs'>\n",
      "<class 'mediapipe.python.solution_base.SolutionOutputs'>\n",
      "<class 'mediapipe.python.solution_base.SolutionOutputs'>\n",
      "<class 'mediapipe.python.solution_base.SolutionOutputs'>\n",
      "<class 'mediapipe.python.solution_base.SolutionOutputs'>\n",
      "<class 'mediapipe.python.solution_base.SolutionOutputs'>\n",
      "<class 'mediapipe.python.solution_base.SolutionOutputs'>\n",
      "<class 'mediapipe.python.solution_base.SolutionOutputs'>\n",
      "<class 'mediapipe.python.solution_base.SolutionOutputs'>\n",
      "<class 'mediapipe.python.solution_base.SolutionOutputs'>\n",
      "<class 'mediapipe.python.solution_base.SolutionOutputs'>\n",
      "<class 'mediapipe.python.solution_base.SolutionOutputs'>\n",
      "<class 'mediapipe.python.solution_base.SolutionOutputs'>\n",
      "<class 'mediapipe.python.solution_base.SolutionOutputs'>\n",
      "<class 'mediapipe.python.solution_base.SolutionOutputs'>\n",
      "<class 'mediapipe.python.solution_base.SolutionOutputs'>\n",
      "<class 'mediapipe.python.solution_base.SolutionOutputs'>\n",
      "<class 'mediapipe.python.solution_base.SolutionOutputs'>\n",
      "<class 'mediapipe.python.solution_base.SolutionOutputs'>\n",
      "<class 'mediapipe.python.solution_base.SolutionOutputs'>\n",
      "<class 'mediapipe.python.solution_base.SolutionOutputs'>\n",
      "<class 'mediapipe.python.solution_base.SolutionOutputs'>\n",
      "<class 'mediapipe.python.solution_base.SolutionOutputs'>\n",
      "<class 'mediapipe.python.solution_base.SolutionOutputs'>\n",
      "<class 'mediapipe.python.solution_base.SolutionOutputs'>\n",
      "<class 'mediapipe.python.solution_base.SolutionOutputs'>\n",
      "<class 'mediapipe.python.solution_base.SolutionOutputs'>\n",
      "<class 'mediapipe.python.solution_base.SolutionOutputs'>\n",
      "<class 'mediapipe.python.solution_base.SolutionOutputs'>\n",
      "<class 'mediapipe.python.solution_base.SolutionOutputs'>\n",
      "<class 'mediapipe.python.solution_base.SolutionOutputs'>\n",
      "<class 'mediapipe.python.solution_base.SolutionOutputs'>\n",
      "<class 'mediapipe.python.solution_base.SolutionOutputs'>\n",
      "<class 'mediapipe.python.solution_base.SolutionOutputs'>\n",
      "<class 'mediapipe.python.solution_base.SolutionOutputs'>\n",
      "<class 'mediapipe.python.solution_base.SolutionOutputs'>\n"
     ]
    },
    {
     "name": "stdout",
     "output_type": "stream",
     "text": [
      "<class 'mediapipe.python.solution_base.SolutionOutputs'>\n",
      "<class 'mediapipe.python.solution_base.SolutionOutputs'>\n",
      "<class 'mediapipe.python.solution_base.SolutionOutputs'>\n",
      "<class 'mediapipe.python.solution_base.SolutionOutputs'>\n",
      "<class 'mediapipe.python.solution_base.SolutionOutputs'>\n",
      "<class 'mediapipe.python.solution_base.SolutionOutputs'>\n",
      "<class 'mediapipe.python.solution_base.SolutionOutputs'>\n",
      "<class 'mediapipe.python.solution_base.SolutionOutputs'>\n",
      "<class 'mediapipe.python.solution_base.SolutionOutputs'>\n",
      "<class 'mediapipe.python.solution_base.SolutionOutputs'>\n",
      "<class 'mediapipe.python.solution_base.SolutionOutputs'>\n",
      "<class 'mediapipe.python.solution_base.SolutionOutputs'>\n",
      "<class 'mediapipe.python.solution_base.SolutionOutputs'>\n",
      "<class 'mediapipe.python.solution_base.SolutionOutputs'>\n",
      "<class 'mediapipe.python.solution_base.SolutionOutputs'>\n",
      "<class 'mediapipe.python.solution_base.SolutionOutputs'>\n",
      "<class 'mediapipe.python.solution_base.SolutionOutputs'>\n",
      "<class 'mediapipe.python.solution_base.SolutionOutputs'>\n"
     ]
    }
   ],
   "source": [
    "cap = cv2.VideoCapture(0)\n",
    "# Set mediapipe model \n",
    "with mp_holistic.Holistic(min_detection_confidence=0.5, min_tracking_confidence=0.5) as holistic:\n",
    "    while cap.isOpened():\n",
    "\n",
    "        # Read feed\n",
    "        ret, frame = cap.read()\n",
    "\n",
    "        # Make detections\n",
    "        image, results = mediapipe_detection(frame, holistic)\n",
    "        print(results)\n",
    "        \n",
    "        # Draw landmarks\n",
    "        draw_styled_landmarks(image, results)\n",
    "\n",
    "        # Show to screen\n",
    "        cv2.imshow('OpenCV Feed', image)\n",
    "\n",
    "        # Break gracefully\n",
    "        if cv2.waitKey(10) & 0xFF == ord('q'):\n",
    "            break\n",
    "    cap.release()\n",
    "    cv2.destroyAllWindows()"
   ]
  },
  {
   "cell_type": "code",
   "execution_count": 17,
   "id": "103b5ae3",
   "metadata": {},
   "outputs": [],
   "source": [
    "draw_styled_landmarks(image, results)"
   ]
  },
  {
   "cell_type": "code",
   "execution_count": 18,
   "id": "47b49c8f",
   "metadata": {},
   "outputs": [
    {
     "data": {
      "text/plain": [
       "<matplotlib.image.AxesImage at 0x1ad5fdd9460>"
      ]
     },
     "execution_count": 18,
     "metadata": {},
     "output_type": "execute_result"
    },
    {
     "data": {
      "image/png": "[encoded data removed]",
      "text/plain": [
       "<Figure size 432x288 with 1 Axes>"
      ]
     },
     "metadata": {
      "needs_background": "light"
     },
     "output_type": "display_data"
    }
   ],
   "source": [
    "plt.imshow(cv2.cvtColor(frame, cv2.COLOR_BGR2RGB))"
   ]
  },
  {
   "cell_type": "markdown",
   "id": "207c2ce5",
   "metadata": {},
   "source": [
    "# 3. Extract Keypoint Values"
   ]
  },
  {
   "cell_type": "code",
   "execution_count": 19,
   "id": "c6577436",
   "metadata": {},
   "outputs": [
    {
     "data": {
      "text/plain": [
       "33"
      ]
     },
     "execution_count": 19,
     "metadata": {},
     "output_type": "execute_result"
    }
   ],
   "source": [
    "len(results.pose_landmarks.landmark)"
   ]
  },
  {
   "cell_type": "code",
   "execution_count": 20,
   "id": "77bb3810",
   "metadata": {},
   "outputs": [],
   "source": [
    "pose = []\n",
    "for res in results.pose_landmarks.landmark:\n",
    "    test = np.array([res.x, res.y, res.z, res.visibility])\n",
    "    pose.append(test)"
   ]
  },
  {
   "cell_type": "code",
   "execution_count": 21,
   "id": "2c88bc86",
   "metadata": {},
   "outputs": [
    {
     "data": {
      "text/plain": [
       "33"
      ]
     },
     "execution_count": 21,
     "metadata": {},
     "output_type": "execute_result"
    }
   ],
   "source": [
    "len(pose)"
   ]
  },
  {
   "cell_type": "code",
   "execution_count": 22,
   "id": "0185800c",
   "metadata": {},
   "outputs": [],
   "source": [
    "#flatten amke 1d array\n",
    "pose = np.array([[res.x, res.y, res.z, res.visibility] for res in results.pose_landmarks.landmark]).flatten() if results.pose_landmarks else np.zeros(132)"
   ]
  },
  {
   "cell_type": "code",
   "execution_count": 23,
   "id": "16e0e30c",
   "metadata": {},
   "outputs": [
    {
     "ename": "AttributeError",
     "evalue": "'NoneType' object has no attribute 'landmark'",
     "output_type": "error",
     "traceback": [
      "\u001b[1;31m---------------------------------------------------------------------------\u001b[0m",
      "\u001b[1;31mAttributeError\u001b[0m                            Traceback (most recent call last)",
      "\u001b[1;32m~\\AppData\\Local\\Temp/ipykernel_13468/3468307850.py\u001b[0m in \u001b[0;36m<module>\u001b[1;34m\u001b[0m\n\u001b[1;32m----> 1\u001b[1;33m \u001b[0mlh\u001b[0m \u001b[1;33m=\u001b[0m \u001b[0mnp\u001b[0m\u001b[1;33m.\u001b[0m\u001b[0marray\u001b[0m\u001b[1;33m(\u001b[0m\u001b[1;33m[\u001b[0m\u001b[1;33m[\u001b[0m\u001b[0mres\u001b[0m\u001b[1;33m.\u001b[0m\u001b[0mx\u001b[0m\u001b[1;33m,\u001b[0m \u001b[0mres\u001b[0m\u001b[1;33m.\u001b[0m\u001b[0my\u001b[0m\u001b[1;33m,\u001b[0m \u001b[0mres\u001b[0m\u001b[1;33m.\u001b[0m\u001b[0mz\u001b[0m\u001b[1;33m]\u001b[0m \u001b[1;32mfor\u001b[0m \u001b[0mres\u001b[0m \u001b[1;32min\u001b[0m \u001b[0mresults\u001b[0m\u001b[1;33m.\u001b[0m\u001b[0mleft_hand_landmarks\u001b[0m\u001b[1;33m.\u001b[0m\u001b[0mlandmark\u001b[0m\u001b[1;33m]\u001b[0m\u001b[1;33m)\u001b[0m\u001b[1;33m.\u001b[0m\u001b[0mflatten\u001b[0m\u001b[1;33m(\u001b[0m\u001b[1;33m)\u001b[0m\u001b[1;33m\u001b[0m\u001b[1;33m\u001b[0m\u001b[0m\n\u001b[0m",
      "\u001b[1;31mAttributeError\u001b[0m: 'NoneType' object has no attribute 'landmark'"
     ]
    }
   ],
   "source": [
    "lh = np.array([[res.x, res.y, res.z] for res in results.left_hand_landmarks.landmark]).flatten()"
   ]
  },
  {
   "cell_type": "code",
   "execution_count": 24,
   "id": "8de8690b",
   "metadata": {},
   "outputs": [
    {
     "ename": "NameError",
     "evalue": "name 'lh' is not defined",
     "output_type": "error",
     "traceback": [
      "\u001b[1;31m---------------------------------------------------------------------------\u001b[0m",
      "\u001b[1;31mNameError\u001b[0m                                 Traceback (most recent call last)",
      "\u001b[1;32m~\\AppData\\Local\\Temp/ipykernel_13468/2726846012.py\u001b[0m in \u001b[0;36m<module>\u001b[1;34m\u001b[0m\n\u001b[1;32m----> 1\u001b[1;33m \u001b[0mlh\u001b[0m\u001b[1;33m\u001b[0m\u001b[1;33m\u001b[0m\u001b[0m\n\u001b[0m",
      "\u001b[1;31mNameError\u001b[0m: name 'lh' is not defined"
     ]
    }
   ],
   "source": [
    "lh"
   ]
  },
  {
   "cell_type": "code",
   "execution_count": 25,
   "id": "e2b44a69",
   "metadata": {},
   "outputs": [],
   "source": [
    "rh = np.array([[res.x, res.y, res.z] for res in results.right_hand_landmarks.landmark]).flatten()if results.right_hand_landmarks else np.zeros(21*3)"
   ]
  },
  {
   "cell_type": "code",
   "execution_count": 25,
   "id": "6acb8478",
   "metadata": {},
   "outputs": [
    {
     "data": {
      "text/plain": [
       "array([0., 0., 0., 0., 0., 0., 0., 0., 0., 0., 0., 0., 0., 0., 0., 0., 0.,\n",
       "       0., 0., 0., 0., 0., 0., 0., 0., 0., 0., 0., 0., 0., 0., 0., 0., 0.,\n",
       "       0., 0., 0., 0., 0., 0., 0., 0., 0., 0., 0., 0., 0., 0., 0., 0., 0.,\n",
       "       0., 0., 0., 0., 0., 0., 0., 0., 0., 0., 0., 0.])"
      ]
     },
     "execution_count": 25,
     "metadata": {},
     "output_type": "execute_result"
    }
   ],
   "source": [
    "rh"
   ]
  },
  {
   "cell_type": "code",
   "execution_count": 25,
   "id": "34929bf0",
   "metadata": {},
   "outputs": [
    {
     "ename": "NameError",
     "evalue": "name 'lh' is not defined",
     "output_type": "error",
     "traceback": [
      "\u001b[1;31m---------------------------------------------------------------------------\u001b[0m",
      "\u001b[1;31mNameError\u001b[0m                                 Traceback (most recent call last)",
      "\u001b[1;32m~\\AppData\\Local\\Temp/ipykernel_13468/2726846012.py\u001b[0m in \u001b[0;36m<module>\u001b[1;34m\u001b[0m\n\u001b[1;32m----> 1\u001b[1;33m \u001b[0mlh\u001b[0m\u001b[1;33m\u001b[0m\u001b[1;33m\u001b[0m\u001b[0m\n\u001b[0m",
      "\u001b[1;31mNameError\u001b[0m: name 'lh' is not defined"
     ]
    }
   ],
   "source": [
    "lh"
   ]
  },
  {
   "cell_type": "code",
   "execution_count": 26,
   "id": "99285487",
   "metadata": {},
   "outputs": [
    {
     "data": {
      "text/plain": [
       "array([0., 0., 0., 0., 0., 0., 0., 0., 0., 0., 0., 0., 0., 0., 0., 0., 0.,\n",
       "       0., 0., 0., 0., 0., 0., 0., 0., 0., 0., 0., 0., 0., 0., 0., 0., 0.,\n",
       "       0., 0., 0., 0., 0., 0., 0., 0., 0., 0., 0., 0., 0., 0., 0., 0., 0.,\n",
       "       0., 0., 0., 0., 0., 0., 0., 0., 0., 0., 0., 0.])"
      ]
     },
     "execution_count": 26,
     "metadata": {},
     "output_type": "execute_result"
    }
   ],
   "source": [
    "np.zeros(21*3) # so that it will not give us error if a lanmark is absent"
   ]
  },
  {
   "cell_type": "code",
   "execution_count": 27,
   "id": "bc0bcdf6",
   "metadata": {},
   "outputs": [],
   "source": [
    "#finally\n",
    "\n",
    "pose = np.array([[res.x, res.y, res.z, res.visibility] for res in results.pose_landmarks.landmark]).flatten() if results.pose_landmarks else np.zeros(132)\n",
    "face = np.array([[res.x, res.y, res.z] for res in results.face_landmarks.landmark]).flatten() if results.face_landmarks else np.zeros(1404)\n",
    "lh = np.array([[res.x, res.y, res.z] for res in results.left_hand_landmarks.landmark]).flatten() if results.left_hand_landmarks else np.zeros(21*3)\n",
    "rh = np.array([[res.x, res.y, res.z] for res in results.right_hand_landmarks.landmark]).flatten() if results.right_hand_landmarks else np.zeros(21*3)"
   ]
  },
  {
   "cell_type": "code",
   "execution_count": 28,
   "id": "6a0dc9ae",
   "metadata": {},
   "outputs": [
    {
     "data": {
      "text/plain": [
       "array([0., 0., 0., 0., 0., 0., 0., 0., 0., 0., 0., 0., 0., 0., 0., 0., 0.,\n",
       "       0., 0., 0., 0., 0., 0., 0., 0., 0., 0., 0., 0., 0., 0., 0., 0., 0.,\n",
       "       0., 0., 0., 0., 0., 0., 0., 0., 0., 0., 0., 0., 0., 0., 0., 0., 0.,\n",
       "       0., 0., 0., 0., 0., 0., 0., 0., 0., 0., 0., 0.])"
      ]
     },
     "execution_count": 28,
     "metadata": {},
     "output_type": "execute_result"
    }
   ],
   "source": [
    "lh"
   ]
  },
  {
   "cell_type": "code",
   "execution_count": 29,
   "id": "29d87c42",
   "metadata": {},
   "outputs": [],
   "source": [
    "def extract_keypoints(results):\n",
    "#     pose = np.array([[res.x, res.y, res.z, res.visibility] for res in results.pose_landmarks.landmark]).flatten() if results.pose_landmarks else np.zeros(33*4)\n",
    "#     face = np.array([[res.x, res.y, res.z] for res in results.face_landmarks.landmark]).flatten() if results.face_landmarks else np.zeros(468*3)\n",
    "    lh = np.array([[res.x, res.y, res.z] for res in results.left_hand_landmarks.landmark]).flatten() if results.left_hand_landmarks else np.zeros(21*3)\n",
    "    rh = np.array([[res.x, res.y, res.z] for res in results.right_hand_landmarks.landmark]).flatten() if results.right_hand_landmarks else np.zeros(21*3)\n",
    "    return np.concatenate([lh, rh])"
   ]
  },
  {
   "cell_type": "code",
   "execution_count": 30,
   "id": "36e1f445",
   "metadata": {},
   "outputs": [
    {
     "data": {
      "text/plain": [
       "(126,)"
      ]
     },
     "execution_count": 30,
     "metadata": {},
     "output_type": "execute_result"
    }
   ],
   "source": [
    "extract_keypoints(results).shape"
   ]
  },
  {
   "cell_type": "code",
   "execution_count": 31,
   "id": "8d62d5ce",
   "metadata": {},
   "outputs": [],
   "source": [
    "result_test = extract_keypoints(results)"
   ]
  },
  {
   "cell_type": "code",
   "execution_count": 32,
   "id": "5c95a9c0",
   "metadata": {},
   "outputs": [
    {
     "data": {
      "text/plain": [
       "array([0., 0., 0., 0., 0., 0., 0., 0., 0., 0., 0., 0., 0., 0., 0., 0., 0.,\n",
       "       0., 0., 0., 0., 0., 0., 0., 0., 0., 0., 0., 0., 0., 0., 0., 0., 0.,\n",
       "       0., 0., 0., 0., 0., 0., 0., 0., 0., 0., 0., 0., 0., 0., 0., 0., 0.,\n",
       "       0., 0., 0., 0., 0., 0., 0., 0., 0., 0., 0., 0., 0., 0., 0., 0., 0.,\n",
       "       0., 0., 0., 0., 0., 0., 0., 0., 0., 0., 0., 0., 0., 0., 0., 0., 0.,\n",
       "       0., 0., 0., 0., 0., 0., 0., 0., 0., 0., 0., 0., 0., 0., 0., 0., 0.,\n",
       "       0., 0., 0., 0., 0., 0., 0., 0., 0., 0., 0., 0., 0., 0., 0., 0., 0.,\n",
       "       0., 0., 0., 0., 0., 0., 0.])"
      ]
     },
     "execution_count": 32,
     "metadata": {},
     "output_type": "execute_result"
    }
   ],
   "source": [
    "result_test"
   ]
  },
  {
   "cell_type": "code",
   "execution_count": 33,
   "id": "ddd70bf1",
   "metadata": {},
   "outputs": [],
   "source": [
    "np.save('0', result_test)"
   ]
  },
  {
   "cell_type": "code",
   "execution_count": 34,
   "id": "9d770a0c",
   "metadata": {},
   "outputs": [
    {
     "data": {
      "text/plain": [
       "array([0., 0., 0., 0., 0., 0., 0., 0., 0., 0., 0., 0., 0., 0., 0., 0., 0.,\n",
       "       0., 0., 0., 0., 0., 0., 0., 0., 0., 0., 0., 0., 0., 0., 0., 0., 0.,\n",
       "       0., 0., 0., 0., 0., 0., 0., 0., 0., 0., 0., 0., 0., 0., 0., 0., 0.,\n",
       "       0., 0., 0., 0., 0., 0., 0., 0., 0., 0., 0., 0., 0., 0., 0., 0., 0.,\n",
       "       0., 0., 0., 0., 0., 0., 0., 0., 0., 0., 0., 0., 0., 0., 0., 0., 0.,\n",
       "       0., 0., 0., 0., 0., 0., 0., 0., 0., 0., 0., 0., 0., 0., 0., 0., 0.,\n",
       "       0., 0., 0., 0., 0., 0., 0., 0., 0., 0., 0., 0., 0., 0., 0., 0., 0.,\n",
       "       0., 0., 0., 0., 0., 0., 0.])"
      ]
     },
     "execution_count": 34,
     "metadata": {},
     "output_type": "execute_result"
    }
   ],
   "source": [
    "np.load('0.npy')\n"
   ]
  },
  {
   "cell_type": "markdown",
   "id": "00b12f3f",
   "metadata": {},
   "source": [
    "# 4. Setup Folders for Collection"
   ]
  },
  {
   "cell_type": "code",
   "execution_count": 47,
   "id": "a2c47131",
   "metadata": {},
   "outputs": [],
   "source": [
    "# Path for exported data, numpy arrays\n",
    "DATA_PATH = os.path.join('MP_Data') \n",
    "\n",
    "# Actions that we try to detect\n",
    "actions = np.array(['on', 'off'])\n",
    "\n",
    "# Thirty videos worth of data\n",
    "no_sequences = 15\n",
    "\n",
    "# Videos are going to be 30 frames in length\n",
    "sequence_length = 15"
   ]
  },
  {
   "cell_type": "code",
   "execution_count": 48,
   "id": "2b858116",
   "metadata": {},
   "outputs": [],
   "source": [
    "# hello\n",
    "## 0\n",
    "## 1\n",
    "## 2\n",
    "## ...\n",
    "## 29\n",
    "# thanks\n",
    "\n",
    "# I love you\n"
   ]
  },
  {
   "cell_type": "code",
   "execution_count": 49,
   "id": "2760b86b",
   "metadata": {},
   "outputs": [],
   "source": [
    "for action in actions: \n",
    "    for sequence in range(no_sequences):\n",
    "        try: \n",
    "            os.makedirs(os.path.join(DATA_PATH, action, str(sequence)))\n",
    "        except:\n",
    "            pass"
   ]
  },
  {
   "cell_type": "markdown",
   "id": "dfb424ab",
   "metadata": {},
   "source": [
    "# 5. Collect Keypoint Values for Training and Testing"
   ]
  },
  {
   "cell_type": "code",
   "execution_count": 50,
   "id": "dd08c1d0",
   "metadata": {},
   "outputs": [],
   "source": [
    "cap = cv2.VideoCapture(0)\n",
    "# Set mediapipe model \n",
    "with mp_holistic.Holistic(min_detection_confidence=0.5, min_tracking_confidence=0.5) as holistic:\n",
    "    \n",
    "    # NEW LOOP\n",
    "    # Loop through actions\n",
    "    for action in actions:\n",
    "        # Loop through sequences aka videos\n",
    "        for sequence in range(no_sequences):\n",
    "            # Loop through video length aka sequence length\n",
    "            for frame_num in range(sequence_length):\n",
    "\n",
    "                # Read feed\n",
    "                ret, frame = cap.read()\n",
    "\n",
    "                # Make detections\n",
    "                image, results = mediapipe_detection(frame, holistic)\n",
    "#                 print(results)\n",
    "\n",
    "                # Draw landmarks\n",
    "                draw_styled_landmarks(image, results)\n",
    "                \n",
    "                # NEW Apply wait logic\n",
    "                if frame_num == 0: \n",
    "                    cv2.putText(image, 'STARTING COLLECTION', (120,200), \n",
    "                               cv2.FONT_HERSHEY_SIMPLEX, 1, (0,255, 0), 4, cv2.LINE_AA)\n",
    "                    cv2.putText(image, 'Collecting frames for {} Video Number {}'.format(action, sequence), (15,12), \n",
    "                               cv2.FONT_HERSHEY_SIMPLEX, 0.5, (0, 0, 255), 1, cv2.LINE_AA)\n",
    "                    # Show to screen\n",
    "                    cv2.imshow('OpenCV Feed', image)\n",
    "                    cv2.waitKey(2000)\n",
    "                else: \n",
    "                    cv2.putText(image, 'Collecting frames for {} Video Number {}'.format(action, sequence), (15,12), \n",
    "                               cv2.FONT_HERSHEY_SIMPLEX, 0.5, (0, 0, 255), 1, cv2.LINE_AA)\n",
    "                    # Show to screen\n",
    "                    cv2.imshow('OpenCV Feed', image)\n",
    "                \n",
    "                # NEW Export keypoints\n",
    "                keypoints = extract_keypoints(results)\n",
    "                npy_path = os.path.join(DATA_PATH, action, str(sequence), str(frame_num))\n",
    "                np.save(npy_path, keypoints)\n",
    "\n",
    "                # Break gracefully\n",
    "                if cv2.waitKey(10) & 0xFF == ord('q'):\n",
    "                    break\n",
    "                    \n",
    "    cap.release()\n",
    "    cv2.destroyAllWindows()"
   ]
  },
  {
   "cell_type": "markdown",
   "id": "5cd57d2f",
   "metadata": {},
   "source": [
    "# 6. Preprocess Data and Create Labels and Features"
   ]
  },
  {
   "cell_type": "code",
   "execution_count": 55,
   "id": "f4c0f697",
   "metadata": {},
   "outputs": [],
   "source": [
    "from sklearn.model_selection import train_test_split\n",
    "from tensorflow.keras.utils import to_categorical"
   ]
  },
  {
   "cell_type": "code",
   "execution_count": 54,
   "id": "46cfdd81",
   "metadata": {},
   "outputs": [],
   "source": [
    "label_map = {label:num for num, label in enumerate(actions)}"
   ]
  },
  {
   "cell_type": "code",
   "execution_count": 56,
   "id": "1bca6e58",
   "metadata": {},
   "outputs": [
    {
     "data": {
      "text/plain": [
       "{'on': 0, 'off': 1}"
      ]
     },
     "execution_count": 56,
     "metadata": {},
     "output_type": "execute_result"
    }
   ],
   "source": [
    "label_map "
   ]
  },
  {
   "cell_type": "code",
   "execution_count": 57,
   "id": "ac23f12f",
   "metadata": {},
   "outputs": [],
   "source": [
    "sequences, labels = [], [] #2 blank array represent x y data label\n",
    "#each of action\n",
    "for action in actions: \n",
    "    #each of no_sequences\n",
    "    for sequence in range(no_sequences):\n",
    "        window = [] # represents differnt of frames for particular  sequences\n",
    "        for frame_num in range(sequence_length):\n",
    "            res = np.load(os.path.join(DATA_PATH, action, str(sequence), \"{}.npy\".format(frame_num)))\n",
    "            window.append(res)\n",
    "        sequences.append(window)\n",
    "        labels.append(label_map[action])"
   ]
  },
  {
   "cell_type": "code",
   "execution_count": 58,
   "id": "5eed5846",
   "metadata": {},
   "outputs": [
    {
     "data": {
      "text/plain": [
       "(30, 15, 126)"
      ]
     },
     "execution_count": 58,
     "metadata": {},
     "output_type": "execute_result"
    }
   ],
   "source": [
    "np.array(sequences).shape"
   ]
  },
  {
   "cell_type": "code",
   "execution_count": 59,
   "id": "b0d2be9a",
   "metadata": {},
   "outputs": [
    {
     "data": {
      "text/plain": [
       "(30,)"
      ]
     },
     "execution_count": 59,
     "metadata": {},
     "output_type": "execute_result"
    }
   ],
   "source": [
    "np.array(labels).shape"
   ]
  },
  {
   "cell_type": "code",
   "execution_count": 60,
   "id": "83334499",
   "metadata": {},
   "outputs": [],
   "source": [
    "X = np.array(sequences)"
   ]
  },
  {
   "cell_type": "code",
   "execution_count": 61,
   "id": "e3443425",
   "metadata": {},
   "outputs": [
    {
     "data": {
      "text/plain": [
       "(30, 15, 126)"
      ]
     },
     "execution_count": 61,
     "metadata": {},
     "output_type": "execute_result"
    }
   ],
   "source": [
    "X.shape"
   ]
  },
  {
   "cell_type": "code",
   "execution_count": 63,
   "id": "1dc8a4d3",
   "metadata": {},
   "outputs": [],
   "source": [
    "y = to_categorical(labels).astype(int)"
   ]
  },
  {
   "cell_type": "code",
   "execution_count": 49,
   "id": "92793ddf",
   "metadata": {},
   "outputs": [],
   "source": [
    "# y"
   ]
  },
  {
   "cell_type": "code",
   "execution_count": 64,
   "id": "f8175daa",
   "metadata": {},
   "outputs": [],
   "source": [
    "X_train, X_test, y_train, y_test = train_test_split(X, y, test_size=0.05)"
   ]
  },
  {
   "cell_type": "code",
   "execution_count": 65,
   "id": "9eb17af7",
   "metadata": {},
   "outputs": [
    {
     "data": {
      "text/plain": [
       "(2, 2)"
      ]
     },
     "execution_count": 65,
     "metadata": {},
     "output_type": "execute_result"
    }
   ],
   "source": [
    "\n",
    "y_test.shape\n"
   ]
  },
  {
   "cell_type": "markdown",
   "id": "eb8b9e80",
   "metadata": {},
   "source": [
    "# 7. Build and Train LSTM Neural Network"
   ]
  },
  {
   "cell_type": "code",
   "execution_count": 66,
   "id": "9b67e06c",
   "metadata": {},
   "outputs": [],
   "source": [
    "from tensorflow.keras.models import Sequential\n",
    "from tensorflow.keras.layers import LSTM, Dense #LSTM temporal action detect and fully connected layer\n",
    "from tensorflow.keras.callbacks import TensorBoard  #for logging"
   ]
  },
  {
   "cell_type": "code",
   "execution_count": 67,
   "id": "9ee57e99",
   "metadata": {},
   "outputs": [],
   "source": [
    "log_dir = os.path.join('Logs')\n",
    "tb_callback = TensorBoard(log_dir=log_dir)"
   ]
  },
  {
   "cell_type": "code",
   "execution_count": 68,
   "id": "afc104b1",
   "metadata": {},
   "outputs": [],
   "source": [
    "model = Sequential() #Sequential API\n",
    "model.add(LSTM(64, return_sequences=True, activation='relu', input_shape=(15,126))) #64 lstm units\n",
    "model.add(LSTM(128, return_sequences=True, activation='relu'))#128 lstm units\n",
    "model.add(LSTM(64, return_sequences=False, activation='relu'))  #64 lstm units #3 st of LSTM Layers False cause dense layer \n",
    "model.add(Dense(64, activation='relu')) \n",
    "model.add(Dense(32, activation='relu'))\n",
    "model.add(Dense(actions.shape[0], activation='softmax'))"
   ]
  },
  {
   "cell_type": "code",
   "execution_count": 69,
   "id": "96ce5205",
   "metadata": {},
   "outputs": [
    {
     "data": {
      "text/plain": [
       "(30, 15, 126)"
      ]
     },
     "execution_count": 69,
     "metadata": {},
     "output_type": "execute_result"
    }
   ],
   "source": [
    "X.shape"
   ]
  },
  {
   "cell_type": "code",
   "execution_count": 70,
   "id": "1680e35c",
   "metadata": {},
   "outputs": [
    {
     "data": {
      "text/plain": [
       "2"
      ]
     },
     "execution_count": 70,
     "metadata": {},
     "output_type": "execute_result"
    }
   ],
   "source": [
    "actions.shape[0]"
   ]
  },
  {
   "cell_type": "code",
   "execution_count": 71,
   "id": "ddebf86c",
   "metadata": {},
   "outputs": [],
   "source": [
    "res=[.7,0.2,0.1]\n"
   ]
  },
  {
   "cell_type": "code",
   "execution_count": 72,
   "id": "e3764aaf",
   "metadata": {},
   "outputs": [
    {
     "data": {
      "text/plain": [
       "'on'"
      ]
     },
     "execution_count": 72,
     "metadata": {},
     "output_type": "execute_result"
    }
   ],
   "source": [
    "actions[np.argmax(res)]\n"
   ]
  },
  {
   "cell_type": "code",
   "execution_count": 77,
   "id": "47cec200",
   "metadata": {},
   "outputs": [],
   "source": [
    "model.compile(optimizer='Adam', loss='categorical_crossentropy', metrics=['categorical_accuracy']) \n",
    "# model.compile(optimizer='Adam', loss='binary_crossentropy', metrics=['accuracy'])"
   ]
  },
  {
   "cell_type": "code",
   "execution_count": 78,
   "id": "15e59a9e",
   "metadata": {},
   "outputs": [
    {
     "name": "stdout",
     "output_type": "stream",
     "text": [
      "Epoch 1/2000\n",
      "1/1 [==============================] - 4s 4s/step - loss: 0.6931 - categorical_accuracy: 0.5357\n",
      "Epoch 2/2000\n",
      "1/1 [==============================] - 1s 670ms/step - loss: 0.6931 - categorical_accuracy: 0.5357\n",
      "Epoch 3/2000\n",
      "1/1 [==============================] - 0s 18ms/step - loss: 0.6930 - categorical_accuracy: 0.5357\n",
      "Epoch 4/2000\n",
      "1/1 [==============================] - 0s 21ms/step - loss: 0.6929 - categorical_accuracy: 0.5357\n",
      "Epoch 5/2000\n",
      "1/1 [==============================] - 0s 19ms/step - loss: 0.6929 - categorical_accuracy: 0.5357\n",
      "Epoch 6/2000\n",
      "1/1 [==============================] - 0s 19ms/step - loss: 0.6928 - categorical_accuracy: 0.5357\n",
      "Epoch 7/2000\n",
      "1/1 [==============================] - 0s 19ms/step - loss: 0.6927 - categorical_accuracy: 0.5357\n",
      "Epoch 8/2000\n",
      "1/1 [==============================] - 0s 19ms/step - loss: 0.6927 - categorical_accuracy: 0.5357\n",
      "Epoch 9/2000\n",
      "1/1 [==============================] - 0s 19ms/step - loss: 0.6926 - categorical_accuracy: 0.5357\n",
      "Epoch 10/2000\n",
      "1/1 [==============================] - 0s 20ms/step - loss: 0.6925 - categorical_accuracy: 0.5357\n",
      "Epoch 11/2000\n",
      "1/1 [==============================] - 0s 18ms/step - loss: 0.6925 - categorical_accuracy: 0.5357\n",
      "Epoch 12/2000\n",
      "1/1 [==============================] - 0s 18ms/step - loss: 0.6924 - categorical_accuracy: 0.5357\n",
      "Epoch 13/2000\n",
      "1/1 [==============================] - 0s 18ms/step - loss: 0.6924 - categorical_accuracy: 0.5357\n",
      "Epoch 14/2000\n",
      "1/1 [==============================] - 0s 17ms/step - loss: 0.6923 - categorical_accuracy: 0.5357\n",
      "Epoch 15/2000\n",
      "1/1 [==============================] - 0s 16ms/step - loss: 0.6922 - categorical_accuracy: 0.5357\n",
      "Epoch 16/2000\n",
      "1/1 [==============================] - 0s 18ms/step - loss: 0.6922 - categorical_accuracy: 0.5357\n",
      "Epoch 17/2000\n",
      "1/1 [==============================] - 0s 20ms/step - loss: 0.6921 - categorical_accuracy: 0.5357\n",
      "Epoch 18/2000\n",
      "1/1 [==============================] - 0s 19ms/step - loss: 0.6921 - categorical_accuracy: 0.5357\n",
      "Epoch 19/2000\n",
      "1/1 [==============================] - 0s 19ms/step - loss: 0.6920 - categorical_accuracy: 0.5357\n",
      "Epoch 20/2000\n",
      "1/1 [==============================] - 0s 18ms/step - loss: 0.6920 - categorical_accuracy: 0.5357\n",
      "Epoch 21/2000\n",
      "1/1 [==============================] - 0s 17ms/step - loss: 0.6919 - categorical_accuracy: 0.5357\n",
      "Epoch 22/2000\n",
      "1/1 [==============================] - 0s 20ms/step - loss: 0.6919 - categorical_accuracy: 0.5357\n",
      "Epoch 23/2000\n",
      "1/1 [==============================] - 0s 19ms/step - loss: 0.6918 - categorical_accuracy: 0.5357\n",
      "Epoch 24/2000\n",
      "1/1 [==============================] - 0s 18ms/step - loss: 0.6918 - categorical_accuracy: 0.5357\n",
      "Epoch 25/2000\n",
      "1/1 [==============================] - 0s 18ms/step - loss: 0.6917 - categorical_accuracy: 0.5357\n",
      "Epoch 26/2000\n",
      "1/1 [==============================] - 0s 20ms/step - loss: 0.6917 - categorical_accuracy: 0.5357\n",
      "Epoch 27/2000\n",
      "1/1 [==============================] - 0s 18ms/step - loss: 0.6917 - categorical_accuracy: 0.5357\n",
      "Epoch 28/2000\n",
      "1/1 [==============================] - 0s 17ms/step - loss: 0.6916 - categorical_accuracy: 0.5357\n",
      "Epoch 29/2000\n",
      "1/1 [==============================] - 0s 19ms/step - loss: 0.6916 - categorical_accuracy: 0.5357\n",
      "Epoch 30/2000\n",
      "1/1 [==============================] - 0s 19ms/step - loss: 0.6915 - categorical_accuracy: 0.5357\n",
      "Epoch 31/2000\n",
      "1/1 [==============================] - 0s 18ms/step - loss: 0.6915 - categorical_accuracy: 0.5357\n",
      "Epoch 32/2000\n",
      "1/1 [==============================] - 0s 18ms/step - loss: 0.6915 - categorical_accuracy: 0.5357\n",
      "Epoch 33/2000\n",
      "1/1 [==============================] - 0s 19ms/step - loss: 0.6914 - categorical_accuracy: 0.5357\n",
      "Epoch 34/2000\n",
      "1/1 [==============================] - 0s 18ms/step - loss: 0.6914 - categorical_accuracy: 0.5357\n",
      "Epoch 35/2000\n",
      "1/1 [==============================] - 0s 21ms/step - loss: 0.6914 - categorical_accuracy: 0.5357\n",
      "Epoch 36/2000\n",
      "1/1 [==============================] - 0s 18ms/step - loss: 0.6913 - categorical_accuracy: 0.5357\n",
      "Epoch 37/2000\n",
      "1/1 [==============================] - 0s 19ms/step - loss: 0.6913 - categorical_accuracy: 0.5357\n",
      "Epoch 38/2000\n",
      "1/1 [==============================] - 0s 17ms/step - loss: 0.6913 - categorical_accuracy: 0.5357\n",
      "Epoch 39/2000\n",
      "1/1 [==============================] - 0s 20ms/step - loss: 0.6912 - categorical_accuracy: 0.5357\n",
      "Epoch 40/2000\n",
      "1/1 [==============================] - 0s 20ms/step - loss: 0.6912 - categorical_accuracy: 0.5357\n",
      "Epoch 41/2000\n",
      "1/1 [==============================] - 0s 19ms/step - loss: 0.6912 - categorical_accuracy: 0.5357\n",
      "Epoch 42/2000\n",
      "1/1 [==============================] - 0s 22ms/step - loss: 0.6912 - categorical_accuracy: 0.5357\n",
      "Epoch 43/2000\n",
      "1/1 [==============================] - 0s 20ms/step - loss: 0.6911 - categorical_accuracy: 0.5357\n",
      "Epoch 44/2000\n",
      "1/1 [==============================] - 0s 20ms/step - loss: 0.6911 - categorical_accuracy: 0.5357\n",
      "Epoch 45/2000\n",
      "1/1 [==============================] - 0s 22ms/step - loss: 0.6911 - categorical_accuracy: 0.5357\n",
      "Epoch 46/2000\n",
      "1/1 [==============================] - 0s 20ms/step - loss: 0.6911 - categorical_accuracy: 0.5357\n",
      "Epoch 47/2000\n",
      "1/1 [==============================] - 0s 20ms/step - loss: 0.6910 - categorical_accuracy: 0.5357\n",
      "Epoch 48/2000\n",
      "1/1 [==============================] - 0s 19ms/step - loss: 0.6910 - categorical_accuracy: 0.5357\n",
      "Epoch 49/2000\n",
      "1/1 [==============================] - 0s 18ms/step - loss: 0.6910 - categorical_accuracy: 0.5357\n",
      "Epoch 50/2000\n",
      "1/1 [==============================] - 0s 18ms/step - loss: 0.6910 - categorical_accuracy: 0.5357\n",
      "Epoch 51/2000\n",
      "1/1 [==============================] - 0s 19ms/step - loss: 0.6910 - categorical_accuracy: 0.5357\n",
      "Epoch 52/2000\n",
      "1/1 [==============================] - 0s 17ms/step - loss: 0.6909 - categorical_accuracy: 0.5357\n",
      "Epoch 53/2000\n",
      "1/1 [==============================] - 0s 18ms/step - loss: 0.6909 - categorical_accuracy: 0.5357\n",
      "Epoch 54/2000\n",
      "1/1 [==============================] - 0s 21ms/step - loss: 0.6909 - categorical_accuracy: 0.5357\n",
      "Epoch 55/2000\n",
      "1/1 [==============================] - 0s 17ms/step - loss: 0.6909 - categorical_accuracy: 0.5357\n",
      "Epoch 56/2000\n",
      "1/1 [==============================] - 0s 17ms/step - loss: 0.6909 - categorical_accuracy: 0.5357\n",
      "Epoch 57/2000\n",
      "1/1 [==============================] - 0s 17ms/step - loss: 0.6909 - categorical_accuracy: 0.5357\n",
      "Epoch 58/2000\n",
      "1/1 [==============================] - 0s 16ms/step - loss: 0.6908 - categorical_accuracy: 0.5357\n",
      "Epoch 59/2000\n",
      "1/1 [==============================] - 0s 16ms/step - loss: 0.6908 - categorical_accuracy: 0.5357\n",
      "Epoch 60/2000\n",
      "1/1 [==============================] - 0s 17ms/step - loss: 0.6908 - categorical_accuracy: 0.5357\n",
      "Epoch 61/2000\n",
      "1/1 [==============================] - 0s 16ms/step - loss: 0.6908 - categorical_accuracy: 0.5357\n",
      "Epoch 62/2000\n",
      "1/1 [==============================] - 0s 16ms/step - loss: 0.6908 - categorical_accuracy: 0.5357\n",
      "Epoch 63/2000\n",
      "1/1 [==============================] - 0s 17ms/step - loss: 0.6908 - categorical_accuracy: 0.5357\n",
      "Epoch 64/2000\n",
      "1/1 [==============================] - 0s 17ms/step - loss: 0.6908 - categorical_accuracy: 0.5357\n",
      "Epoch 65/2000\n",
      "1/1 [==============================] - 0s 17ms/step - loss: 0.6908 - categorical_accuracy: 0.5357\n",
      "Epoch 66/2000\n",
      "1/1 [==============================] - 0s 17ms/step - loss: 0.6908 - categorical_accuracy: 0.5357\n",
      "Epoch 67/2000\n",
      "1/1 [==============================] - 0s 17ms/step - loss: 0.6907 - categorical_accuracy: 0.5357\n",
      "Epoch 68/2000\n",
      "1/1 [==============================] - 0s 17ms/step - loss: 0.6907 - categorical_accuracy: 0.5357\n",
      "Epoch 69/2000\n",
      "1/1 [==============================] - 0s 16ms/step - loss: 0.6907 - categorical_accuracy: 0.5357\n",
      "Epoch 70/2000\n",
      "1/1 [==============================] - 0s 16ms/step - loss: 0.6907 - categorical_accuracy: 0.5357\n",
      "Epoch 71/2000\n",
      "1/1 [==============================] - 0s 17ms/step - loss: 0.6907 - categorical_accuracy: 0.5357\n",
      "Epoch 72/2000\n",
      "1/1 [==============================] - 0s 17ms/step - loss: 0.6907 - categorical_accuracy: 0.5357\n",
      "Epoch 73/2000\n",
      "1/1 [==============================] - 0s 17ms/step - loss: 0.6907 - categorical_accuracy: 0.5357\n",
      "Epoch 74/2000\n"
     ]
    },
    {
     "name": "stdout",
     "output_type": "stream",
     "text": [
      "1/1 [==============================] - 0s 21ms/step - loss: 0.6907 - categorical_accuracy: 0.5357\n",
      "Epoch 75/2000\n",
      "1/1 [==============================] - 0s 22ms/step - loss: 0.6907 - categorical_accuracy: 0.5357\n",
      "Epoch 76/2000\n",
      "1/1 [==============================] - 0s 20ms/step - loss: 0.6907 - categorical_accuracy: 0.5357\n",
      "Epoch 77/2000\n",
      "1/1 [==============================] - 0s 21ms/step - loss: 0.6907 - categorical_accuracy: 0.5357\n",
      "Epoch 78/2000\n",
      "1/1 [==============================] - 0s 17ms/step - loss: 0.6907 - categorical_accuracy: 0.5357\n",
      "Epoch 79/2000\n",
      "1/1 [==============================] - 0s 17ms/step - loss: 0.6907 - categorical_accuracy: 0.5357\n",
      "Epoch 80/2000\n",
      "1/1 [==============================] - 0s 16ms/step - loss: 0.6907 - categorical_accuracy: 0.5357\n",
      "Epoch 81/2000\n",
      "1/1 [==============================] - 0s 18ms/step - loss: 0.6907 - categorical_accuracy: 0.5357\n",
      "Epoch 82/2000\n",
      "1/1 [==============================] - 0s 17ms/step - loss: 0.6907 - categorical_accuracy: 0.5357\n",
      "Epoch 83/2000\n",
      "1/1 [==============================] - 0s 16ms/step - loss: 0.6906 - categorical_accuracy: 0.5357\n",
      "Epoch 84/2000\n",
      "1/1 [==============================] - 0s 19ms/step - loss: 0.6906 - categorical_accuracy: 0.5357\n",
      "Epoch 85/2000\n",
      "1/1 [==============================] - 0s 17ms/step - loss: 0.6906 - categorical_accuracy: 0.5357\n",
      "Epoch 86/2000\n",
      "1/1 [==============================] - 0s 17ms/step - loss: 0.6906 - categorical_accuracy: 0.5357\n",
      "Epoch 87/2000\n",
      "1/1 [==============================] - 0s 17ms/step - loss: 0.6906 - categorical_accuracy: 0.5357\n",
      "Epoch 88/2000\n",
      "1/1 [==============================] - 0s 18ms/step - loss: 0.6906 - categorical_accuracy: 0.5357\n",
      "Epoch 89/2000\n",
      "1/1 [==============================] - 0s 20ms/step - loss: 0.6906 - categorical_accuracy: 0.5357\n",
      "Epoch 90/2000\n",
      "1/1 [==============================] - 0s 21ms/step - loss: 0.6906 - categorical_accuracy: 0.5357\n",
      "Epoch 91/2000\n",
      "1/1 [==============================] - 0s 19ms/step - loss: 0.6906 - categorical_accuracy: 0.5357\n",
      "Epoch 92/2000\n",
      "1/1 [==============================] - 0s 18ms/step - loss: 0.6906 - categorical_accuracy: 0.5357\n",
      "Epoch 93/2000\n",
      "1/1 [==============================] - 0s 19ms/step - loss: 0.6906 - categorical_accuracy: 0.5357\n",
      "Epoch 94/2000\n",
      "1/1 [==============================] - 0s 18ms/step - loss: 0.6906 - categorical_accuracy: 0.5357\n",
      "Epoch 95/2000\n",
      "1/1 [==============================] - 0s 21ms/step - loss: 0.6906 - categorical_accuracy: 0.5357\n",
      "Epoch 96/2000\n",
      "1/1 [==============================] - 0s 19ms/step - loss: 0.6906 - categorical_accuracy: 0.5357\n",
      "Epoch 97/2000\n",
      "1/1 [==============================] - 0s 18ms/step - loss: 0.6906 - categorical_accuracy: 0.5357\n",
      "Epoch 98/2000\n",
      "1/1 [==============================] - 0s 18ms/step - loss: 0.6906 - categorical_accuracy: 0.5357\n",
      "Epoch 99/2000\n",
      "1/1 [==============================] - 0s 19ms/step - loss: 0.6906 - categorical_accuracy: 0.5357\n",
      "Epoch 100/2000\n",
      "1/1 [==============================] - 0s 20ms/step - loss: 0.6906 - categorical_accuracy: 0.5357\n",
      "Epoch 101/2000\n",
      "1/1 [==============================] - 0s 19ms/step - loss: 0.6906 - categorical_accuracy: 0.5357\n",
      "Epoch 102/2000\n",
      "1/1 [==============================] - 0s 19ms/step - loss: 0.6906 - categorical_accuracy: 0.5357\n",
      "Epoch 103/2000\n",
      "1/1 [==============================] - 0s 19ms/step - loss: 0.6906 - categorical_accuracy: 0.5357\n",
      "Epoch 104/2000\n",
      "1/1 [==============================] - 0s 18ms/step - loss: 0.6906 - categorical_accuracy: 0.5357\n",
      "Epoch 105/2000\n",
      "1/1 [==============================] - 0s 17ms/step - loss: 0.6906 - categorical_accuracy: 0.5357\n",
      "Epoch 106/2000\n",
      "1/1 [==============================] - 0s 16ms/step - loss: 0.6906 - categorical_accuracy: 0.5357\n",
      "Epoch 107/2000\n",
      "1/1 [==============================] - 0s 18ms/step - loss: 0.6906 - categorical_accuracy: 0.5357\n",
      "Epoch 108/2000\n",
      "1/1 [==============================] - 0s 18ms/step - loss: 0.6906 - categorical_accuracy: 0.5357\n",
      "Epoch 109/2000\n",
      "1/1 [==============================] - 0s 19ms/step - loss: 0.6906 - categorical_accuracy: 0.5357\n",
      "Epoch 110/2000\n",
      "1/1 [==============================] - 0s 20ms/step - loss: 0.6906 - categorical_accuracy: 0.5357\n",
      "Epoch 111/2000\n",
      "1/1 [==============================] - 0s 19ms/step - loss: 0.6906 - categorical_accuracy: 0.5357\n",
      "Epoch 112/2000\n",
      "1/1 [==============================] - 0s 19ms/step - loss: 0.6906 - categorical_accuracy: 0.5357\n",
      "Epoch 113/2000\n",
      "1/1 [==============================] - 0s 18ms/step - loss: 0.6906 - categorical_accuracy: 0.5357\n",
      "Epoch 114/2000\n",
      "1/1 [==============================] - 0s 17ms/step - loss: 0.6906 - categorical_accuracy: 0.5357\n",
      "Epoch 115/2000\n",
      "1/1 [==============================] - 0s 18ms/step - loss: 0.6906 - categorical_accuracy: 0.5357\n",
      "Epoch 116/2000\n",
      "1/1 [==============================] - 0s 19ms/step - loss: 0.6906 - categorical_accuracy: 0.5357\n",
      "Epoch 117/2000\n",
      "1/1 [==============================] - 0s 20ms/step - loss: 0.6906 - categorical_accuracy: 0.5357\n",
      "Epoch 118/2000\n",
      "1/1 [==============================] - 0s 20ms/step - loss: 0.6906 - categorical_accuracy: 0.5357\n",
      "Epoch 119/2000\n",
      "1/1 [==============================] - 0s 19ms/step - loss: 0.6906 - categorical_accuracy: 0.5357\n",
      "Epoch 120/2000\n",
      "1/1 [==============================] - 0s 18ms/step - loss: 0.6906 - categorical_accuracy: 0.5357\n",
      "Epoch 121/2000\n",
      "1/1 [==============================] - 0s 19ms/step - loss: 0.6906 - categorical_accuracy: 0.5357\n",
      "Epoch 122/2000\n",
      "1/1 [==============================] - 0s 18ms/step - loss: 0.6906 - categorical_accuracy: 0.5357\n",
      "Epoch 123/2000\n",
      "1/1 [==============================] - 0s 18ms/step - loss: 0.6906 - categorical_accuracy: 0.5357\n",
      "Epoch 124/2000\n",
      "1/1 [==============================] - 0s 20ms/step - loss: 0.6906 - categorical_accuracy: 0.5357\n",
      "Epoch 125/2000\n",
      "1/1 [==============================] - ETA: 0s - loss: 0.6906 - categorical_accuracy: 0.53 - 0s 18ms/step - loss: 0.6906 - categorical_accuracy: 0.5357\n",
      "Epoch 126/2000\n",
      "1/1 [==============================] - 0s 18ms/step - loss: 0.6906 - categorical_accuracy: 0.5357\n",
      "Epoch 127/2000\n",
      "1/1 [==============================] - 0s 18ms/step - loss: 0.6906 - categorical_accuracy: 0.5357\n",
      "Epoch 128/2000\n",
      "1/1 [==============================] - 0s 19ms/step - loss: 0.6906 - categorical_accuracy: 0.5357\n",
      "Epoch 129/2000\n",
      "1/1 [==============================] - 0s 21ms/step - loss: 0.6906 - categorical_accuracy: 0.5357\n",
      "Epoch 130/2000\n",
      "1/1 [==============================] - 0s 20ms/step - loss: 0.6906 - categorical_accuracy: 0.5357\n",
      "Epoch 131/2000\n",
      "1/1 [==============================] - 0s 20ms/step - loss: 0.6906 - categorical_accuracy: 0.5357\n",
      "Epoch 132/2000\n",
      "1/1 [==============================] - 0s 20ms/step - loss: 0.6906 - categorical_accuracy: 0.5357\n",
      "Epoch 133/2000\n",
      "1/1 [==============================] - 0s 22ms/step - loss: 0.6906 - categorical_accuracy: 0.5357\n",
      "Epoch 134/2000\n",
      "1/1 [==============================] - 0s 19ms/step - loss: 0.6906 - categorical_accuracy: 0.5357\n",
      "Epoch 135/2000\n",
      "1/1 [==============================] - 0s 19ms/step - loss: 0.6906 - categorical_accuracy: 0.5357\n",
      "Epoch 136/2000\n",
      "1/1 [==============================] - 0s 19ms/step - loss: 0.6906 - categorical_accuracy: 0.5357\n",
      "Epoch 137/2000\n",
      "1/1 [==============================] - 0s 19ms/step - loss: 0.6906 - categorical_accuracy: 0.5357\n",
      "Epoch 138/2000\n",
      "1/1 [==============================] - 0s 20ms/step - loss: 0.6906 - categorical_accuracy: 0.5357\n",
      "Epoch 139/2000\n",
      "1/1 [==============================] - 0s 20ms/step - loss: 0.6906 - categorical_accuracy: 0.5357\n",
      "Epoch 140/2000\n",
      "1/1 [==============================] - 0s 20ms/step - loss: 0.6906 - categorical_accuracy: 0.5357\n",
      "Epoch 141/2000\n",
      "1/1 [==============================] - 0s 19ms/step - loss: 0.6906 - categorical_accuracy: 0.5357\n",
      "Epoch 142/2000\n",
      "1/1 [==============================] - 0s 17ms/step - loss: 0.6906 - categorical_accuracy: 0.5357\n",
      "Epoch 143/2000\n",
      "1/1 [==============================] - 0s 18ms/step - loss: 0.6906 - categorical_accuracy: 0.5357\n",
      "Epoch 144/2000\n",
      "1/1 [==============================] - 0s 17ms/step - loss: 0.6906 - categorical_accuracy: 0.5357\n",
      "Epoch 145/2000\n",
      "1/1 [==============================] - 0s 17ms/step - loss: 0.6906 - categorical_accuracy: 0.5357\n",
      "Epoch 146/2000\n"
     ]
    },
    {
     "name": "stdout",
     "output_type": "stream",
     "text": [
      "1/1 [==============================] - 0s 19ms/step - loss: 0.6906 - categorical_accuracy: 0.5357\n",
      "Epoch 147/2000\n",
      "1/1 [==============================] - 0s 18ms/step - loss: 0.6906 - categorical_accuracy: 0.5357\n",
      "Epoch 148/2000\n",
      "1/1 [==============================] - 0s 17ms/step - loss: 0.6906 - categorical_accuracy: 0.5357\n",
      "Epoch 149/2000\n",
      "1/1 [==============================] - 0s 18ms/step - loss: 0.6906 - categorical_accuracy: 0.5357\n",
      "Epoch 150/2000\n",
      "1/1 [==============================] - 0s 20ms/step - loss: 0.6906 - categorical_accuracy: 0.5357\n",
      "Epoch 151/2000\n",
      "1/1 [==============================] - 0s 19ms/step - loss: 0.6906 - categorical_accuracy: 0.5357\n",
      "Epoch 152/2000\n",
      "1/1 [==============================] - 0s 20ms/step - loss: 0.6906 - categorical_accuracy: 0.5357\n",
      "Epoch 153/2000\n",
      "1/1 [==============================] - 0s 19ms/step - loss: 0.6906 - categorical_accuracy: 0.5357\n",
      "Epoch 154/2000\n",
      "1/1 [==============================] - 0s 17ms/step - loss: 0.6906 - categorical_accuracy: 0.5357\n",
      "Epoch 155/2000\n",
      "1/1 [==============================] - 0s 17ms/step - loss: 0.6906 - categorical_accuracy: 0.5357\n",
      "Epoch 156/2000\n",
      "1/1 [==============================] - 0s 16ms/step - loss: 0.6906 - categorical_accuracy: 0.5357\n",
      "Epoch 157/2000\n",
      "1/1 [==============================] - 0s 17ms/step - loss: 0.6906 - categorical_accuracy: 0.5357\n",
      "Epoch 158/2000\n",
      "1/1 [==============================] - 0s 16ms/step - loss: 0.6906 - categorical_accuracy: 0.5357\n",
      "Epoch 159/2000\n",
      "1/1 [==============================] - 0s 18ms/step - loss: 0.6906 - categorical_accuracy: 0.5357\n",
      "Epoch 160/2000\n",
      "1/1 [==============================] - 0s 17ms/step - loss: 0.6906 - categorical_accuracy: 0.5357\n",
      "Epoch 161/2000\n",
      "1/1 [==============================] - 0s 16ms/step - loss: 0.6906 - categorical_accuracy: 0.5357\n",
      "Epoch 162/2000\n",
      "1/1 [==============================] - 0s 17ms/step - loss: 0.6906 - categorical_accuracy: 0.5357\n",
      "Epoch 163/2000\n",
      "1/1 [==============================] - 0s 17ms/step - loss: 0.6906 - categorical_accuracy: 0.5357\n",
      "Epoch 164/2000\n",
      "1/1 [==============================] - 0s 17ms/step - loss: 0.6906 - categorical_accuracy: 0.5357\n",
      "Epoch 165/2000\n",
      "1/1 [==============================] - 0s 16ms/step - loss: 0.6906 - categorical_accuracy: 0.5357\n",
      "Epoch 166/2000\n",
      "1/1 [==============================] - 0s 16ms/step - loss: 0.6906 - categorical_accuracy: 0.5357\n",
      "Epoch 167/2000\n",
      "1/1 [==============================] - 0s 17ms/step - loss: 0.6906 - categorical_accuracy: 0.5357\n",
      "Epoch 168/2000\n",
      "1/1 [==============================] - 0s 16ms/step - loss: 0.6906 - categorical_accuracy: 0.5357\n",
      "Epoch 169/2000\n",
      "1/1 [==============================] - 0s 18ms/step - loss: 0.6906 - categorical_accuracy: 0.5357\n",
      "Epoch 170/2000\n",
      "1/1 [==============================] - 0s 16ms/step - loss: 0.6906 - categorical_accuracy: 0.5357\n",
      "Epoch 171/2000\n",
      "1/1 [==============================] - 0s 18ms/step - loss: 0.6906 - categorical_accuracy: 0.5357\n",
      "Epoch 172/2000\n",
      "1/1 [==============================] - 0s 16ms/step - loss: 0.6906 - categorical_accuracy: 0.5357\n",
      "Epoch 173/2000\n",
      "1/1 [==============================] - 0s 17ms/step - loss: 0.6906 - categorical_accuracy: 0.5357\n",
      "Epoch 174/2000\n",
      "1/1 [==============================] - 0s 17ms/step - loss: 0.6906 - categorical_accuracy: 0.5357\n",
      "Epoch 175/2000\n",
      "1/1 [==============================] - 0s 18ms/step - loss: 0.6906 - categorical_accuracy: 0.5357\n",
      "Epoch 176/2000\n",
      "1/1 [==============================] - 0s 19ms/step - loss: 0.6906 - categorical_accuracy: 0.5357\n",
      "Epoch 177/2000\n",
      "1/1 [==============================] - 0s 20ms/step - loss: 0.6906 - categorical_accuracy: 0.5357\n",
      "Epoch 178/2000\n",
      "1/1 [==============================] - 0s 20ms/step - loss: 0.6906 - categorical_accuracy: 0.5357\n",
      "Epoch 179/2000\n",
      "1/1 [==============================] - 0s 19ms/step - loss: 0.6906 - categorical_accuracy: 0.5357\n",
      "Epoch 180/2000\n",
      "1/1 [==============================] - 0s 18ms/step - loss: 0.6906 - categorical_accuracy: 0.5357\n",
      "Epoch 181/2000\n",
      "1/1 [==============================] - 0s 20ms/step - loss: 0.6906 - categorical_accuracy: 0.5357\n",
      "Epoch 182/2000\n",
      "1/1 [==============================] - 0s 20ms/step - loss: 0.6906 - categorical_accuracy: 0.5357\n",
      "Epoch 183/2000\n",
      "1/1 [==============================] - 0s 19ms/step - loss: 0.6906 - categorical_accuracy: 0.5357\n",
      "Epoch 184/2000\n",
      "1/1 [==============================] - 0s 19ms/step - loss: 0.6906 - categorical_accuracy: 0.5357\n",
      "Epoch 185/2000\n",
      "1/1 [==============================] - 0s 20ms/step - loss: 0.6906 - categorical_accuracy: 0.5357\n",
      "Epoch 186/2000\n",
      "1/1 [==============================] - 0s 19ms/step - loss: 0.6906 - categorical_accuracy: 0.5357\n",
      "Epoch 187/2000\n",
      "1/1 [==============================] - 0s 20ms/step - loss: 0.6906 - categorical_accuracy: 0.5357\n",
      "Epoch 188/2000\n",
      "1/1 [==============================] - 0s 19ms/step - loss: 0.6906 - categorical_accuracy: 0.5357\n",
      "Epoch 189/2000\n",
      "1/1 [==============================] - 0s 18ms/step - loss: 0.6906 - categorical_accuracy: 0.5357\n",
      "Epoch 190/2000\n",
      "1/1 [==============================] - 0s 17ms/step - loss: 0.6906 - categorical_accuracy: 0.5357\n",
      "Epoch 191/2000\n",
      "1/1 [==============================] - 0s 17ms/step - loss: 0.6906 - categorical_accuracy: 0.5357\n",
      "Epoch 192/2000\n",
      "1/1 [==============================] - 0s 20ms/step - loss: 0.6906 - categorical_accuracy: 0.5357\n",
      "Epoch 193/2000\n",
      "1/1 [==============================] - 0s 20ms/step - loss: 0.6906 - categorical_accuracy: 0.5357\n",
      "Epoch 194/2000\n",
      "1/1 [==============================] - 0s 19ms/step - loss: 0.6906 - categorical_accuracy: 0.5357\n",
      "Epoch 195/2000\n",
      "1/1 [==============================] - 0s 18ms/step - loss: 0.6906 - categorical_accuracy: 0.5357\n",
      "Epoch 196/2000\n",
      "1/1 [==============================] - 0s 16ms/step - loss: 0.6906 - categorical_accuracy: 0.5357\n",
      "Epoch 197/2000\n",
      "1/1 [==============================] - 0s 18ms/step - loss: 0.6906 - categorical_accuracy: 0.5357\n",
      "Epoch 198/2000\n",
      "1/1 [==============================] - 0s 18ms/step - loss: 0.6906 - categorical_accuracy: 0.5357\n",
      "Epoch 199/2000\n",
      "1/1 [==============================] - 0s 20ms/step - loss: 0.6906 - categorical_accuracy: 0.5357\n",
      "Epoch 200/2000\n",
      "1/1 [==============================] - 0s 20ms/step - loss: 0.6906 - categorical_accuracy: 0.5357\n",
      "Epoch 201/2000\n",
      "1/1 [==============================] - 0s 18ms/step - loss: 0.6906 - categorical_accuracy: 0.5357\n",
      "Epoch 202/2000\n",
      "1/1 [==============================] - 0s 18ms/step - loss: 0.6906 - categorical_accuracy: 0.5357\n",
      "Epoch 203/2000\n",
      "1/1 [==============================] - 0s 17ms/step - loss: 0.6906 - categorical_accuracy: 0.5357\n",
      "Epoch 204/2000\n",
      "1/1 [==============================] - 0s 18ms/step - loss: 0.6906 - categorical_accuracy: 0.5357\n",
      "Epoch 205/2000\n",
      "1/1 [==============================] - 0s 18ms/step - loss: 0.6906 - categorical_accuracy: 0.5357\n",
      "Epoch 206/2000\n",
      "1/1 [==============================] - 0s 18ms/step - loss: 0.6906 - categorical_accuracy: 0.5357\n",
      "Epoch 207/2000\n",
      "1/1 [==============================] - 0s 18ms/step - loss: 0.6906 - categorical_accuracy: 0.5357\n",
      "Epoch 208/2000\n",
      "1/1 [==============================] - 0s 19ms/step - loss: 0.6906 - categorical_accuracy: 0.5357\n",
      "Epoch 209/2000\n",
      "1/1 [==============================] - 0s 18ms/step - loss: 0.6906 - categorical_accuracy: 0.5357\n",
      "Epoch 210/2000\n",
      "1/1 [==============================] - 0s 18ms/step - loss: 0.6906 - categorical_accuracy: 0.5357\n",
      "Epoch 211/2000\n",
      "1/1 [==============================] - 0s 20ms/step - loss: 0.6906 - categorical_accuracy: 0.5357\n",
      "Epoch 212/2000\n",
      "1/1 [==============================] - 0s 17ms/step - loss: 0.6906 - categorical_accuracy: 0.5357\n",
      "Epoch 213/2000\n",
      "1/1 [==============================] - 0s 18ms/step - loss: 0.6906 - categorical_accuracy: 0.5357\n",
      "Epoch 214/2000\n",
      "1/1 [==============================] - 0s 19ms/step - loss: 0.6906 - categorical_accuracy: 0.5357\n",
      "Epoch 215/2000\n",
      "1/1 [==============================] - 0s 20ms/step - loss: 0.6906 - categorical_accuracy: 0.5357\n",
      "Epoch 216/2000\n",
      "1/1 [==============================] - 0s 18ms/step - loss: 0.6906 - categorical_accuracy: 0.5357\n",
      "Epoch 217/2000\n",
      "1/1 [==============================] - 0s 18ms/step - loss: 0.6906 - categorical_accuracy: 0.5357\n",
      "Epoch 218/2000\n"
     ]
    },
    {
     "name": "stdout",
     "output_type": "stream",
     "text": [
      "1/1 [==============================] - 0s 20ms/step - loss: 0.6906 - categorical_accuracy: 0.5357\n",
      "Epoch 219/2000\n",
      "1/1 [==============================] - 0s 20ms/step - loss: 0.6906 - categorical_accuracy: 0.5357\n",
      "Epoch 220/2000\n",
      "1/1 [==============================] - 0s 19ms/step - loss: 0.6906 - categorical_accuracy: 0.5357\n",
      "Epoch 221/2000\n",
      "1/1 [==============================] - 0s 18ms/step - loss: 0.6906 - categorical_accuracy: 0.5357\n",
      "Epoch 222/2000\n",
      "1/1 [==============================] - 0s 17ms/step - loss: 0.6906 - categorical_accuracy: 0.5357\n",
      "Epoch 223/2000\n",
      "1/1 [==============================] - 0s 17ms/step - loss: 0.6906 - categorical_accuracy: 0.5357\n",
      "Epoch 224/2000\n",
      "1/1 [==============================] - 0s 18ms/step - loss: 0.6906 - categorical_accuracy: 0.5357\n",
      "Epoch 225/2000\n",
      "1/1 [==============================] - 0s 19ms/step - loss: 0.6906 - categorical_accuracy: 0.5357\n",
      "Epoch 226/2000\n",
      "1/1 [==============================] - 0s 18ms/step - loss: 0.6906 - categorical_accuracy: 0.5357\n",
      "Epoch 227/2000\n",
      "1/1 [==============================] - 0s 17ms/step - loss: 0.6906 - categorical_accuracy: 0.5357\n",
      "Epoch 228/2000\n",
      "1/1 [==============================] - 0s 17ms/step - loss: 0.6906 - categorical_accuracy: 0.5357\n",
      "Epoch 229/2000\n",
      "1/1 [==============================] - 0s 17ms/step - loss: 0.6906 - categorical_accuracy: 0.5357\n",
      "Epoch 230/2000\n",
      "1/1 [==============================] - 0s 16ms/step - loss: 0.6906 - categorical_accuracy: 0.5357\n",
      "Epoch 231/2000\n",
      "1/1 [==============================] - 0s 17ms/step - loss: 0.6906 - categorical_accuracy: 0.5357\n",
      "Epoch 232/2000\n",
      "1/1 [==============================] - 0s 18ms/step - loss: 0.6906 - categorical_accuracy: 0.5357\n",
      "Epoch 233/2000\n",
      "1/1 [==============================] - 0s 17ms/step - loss: 0.6906 - categorical_accuracy: 0.5357\n",
      "Epoch 234/2000\n",
      "1/1 [==============================] - 0s 17ms/step - loss: 0.6906 - categorical_accuracy: 0.5357\n",
      "Epoch 235/2000\n",
      "1/1 [==============================] - 0s 17ms/step - loss: 0.6906 - categorical_accuracy: 0.5357\n",
      "Epoch 236/2000\n",
      "1/1 [==============================] - 0s 16ms/step - loss: 0.6906 - categorical_accuracy: 0.5357\n",
      "Epoch 237/2000\n",
      "1/1 [==============================] - 0s 16ms/step - loss: 0.6906 - categorical_accuracy: 0.5357\n",
      "Epoch 238/2000\n",
      "1/1 [==============================] - 0s 16ms/step - loss: 0.6906 - categorical_accuracy: 0.5357\n",
      "Epoch 239/2000\n",
      "1/1 [==============================] - 0s 18ms/step - loss: 0.6906 - categorical_accuracy: 0.5357\n",
      "Epoch 240/2000\n",
      "1/1 [==============================] - 0s 16ms/step - loss: 0.6906 - categorical_accuracy: 0.5357\n",
      "Epoch 241/2000\n",
      "1/1 [==============================] - 0s 18ms/step - loss: 0.6906 - categorical_accuracy: 0.5357\n",
      "Epoch 242/2000\n",
      "1/1 [==============================] - 0s 17ms/step - loss: 0.6906 - categorical_accuracy: 0.5357\n",
      "Epoch 243/2000\n",
      "1/1 [==============================] - 0s 17ms/step - loss: 0.6906 - categorical_accuracy: 0.5357\n",
      "Epoch 244/2000\n",
      "1/1 [==============================] - 0s 18ms/step - loss: 0.6906 - categorical_accuracy: 0.5357\n",
      "Epoch 245/2000\n",
      "1/1 [==============================] - 0s 16ms/step - loss: 0.6906 - categorical_accuracy: 0.5357\n",
      "Epoch 246/2000\n",
      "1/1 [==============================] - 0s 18ms/step - loss: 0.6906 - categorical_accuracy: 0.5357\n",
      "Epoch 247/2000\n",
      "1/1 [==============================] - 0s 17ms/step - loss: 0.6906 - categorical_accuracy: 0.5357\n",
      "Epoch 248/2000\n",
      "1/1 [==============================] - 0s 17ms/step - loss: 0.6906 - categorical_accuracy: 0.5357\n",
      "Epoch 249/2000\n",
      "1/1 [==============================] - 0s 17ms/step - loss: 0.6906 - categorical_accuracy: 0.5357\n",
      "Epoch 250/2000\n",
      "1/1 [==============================] - 0s 17ms/step - loss: 0.6906 - categorical_accuracy: 0.5357\n",
      "Epoch 251/2000\n",
      "1/1 [==============================] - 0s 16ms/step - loss: 0.6906 - categorical_accuracy: 0.5357\n",
      "Epoch 252/2000\n",
      "1/1 [==============================] - 0s 17ms/step - loss: 0.6906 - categorical_accuracy: 0.5357\n",
      "Epoch 253/2000\n",
      "1/1 [==============================] - 0s 17ms/step - loss: 0.6906 - categorical_accuracy: 0.5357\n",
      "Epoch 254/2000\n",
      "1/1 [==============================] - 0s 19ms/step - loss: 0.6906 - categorical_accuracy: 0.5357\n",
      "Epoch 255/2000\n",
      "1/1 [==============================] - 0s 18ms/step - loss: 0.6906 - categorical_accuracy: 0.5357\n",
      "Epoch 256/2000\n",
      "1/1 [==============================] - 0s 21ms/step - loss: 0.6906 - categorical_accuracy: 0.5357\n",
      "Epoch 257/2000\n",
      "1/1 [==============================] - 0s 19ms/step - loss: 0.6906 - categorical_accuracy: 0.5357\n",
      "Epoch 258/2000\n",
      "1/1 [==============================] - 0s 18ms/step - loss: 0.6906 - categorical_accuracy: 0.5357\n",
      "Epoch 259/2000\n",
      "1/1 [==============================] - 0s 17ms/step - loss: 0.6906 - categorical_accuracy: 0.5357\n",
      "Epoch 260/2000\n",
      "1/1 [==============================] - 0s 17ms/step - loss: 0.6906 - categorical_accuracy: 0.5357\n",
      "Epoch 261/2000\n",
      "1/1 [==============================] - 0s 17ms/step - loss: 0.6906 - categorical_accuracy: 0.5357\n",
      "Epoch 262/2000\n",
      "1/1 [==============================] - 0s 18ms/step - loss: 0.6906 - categorical_accuracy: 0.5357\n",
      "Epoch 263/2000\n",
      "1/1 [==============================] - 0s 20ms/step - loss: 0.6906 - categorical_accuracy: 0.5357\n",
      "Epoch 264/2000\n",
      "1/1 [==============================] - 0s 19ms/step - loss: 0.6906 - categorical_accuracy: 0.5357\n",
      "Epoch 265/2000\n",
      "1/1 [==============================] - 0s 21ms/step - loss: 0.6906 - categorical_accuracy: 0.5357\n",
      "Epoch 266/2000\n",
      "1/1 [==============================] - 0s 19ms/step - loss: 0.6906 - categorical_accuracy: 0.5357\n",
      "Epoch 267/2000\n",
      "1/1 [==============================] - 0s 19ms/step - loss: 0.6906 - categorical_accuracy: 0.5357\n",
      "Epoch 268/2000\n",
      "1/1 [==============================] - 0s 18ms/step - loss: 0.6906 - categorical_accuracy: 0.5357\n",
      "Epoch 269/2000\n",
      "1/1 [==============================] - 0s 18ms/step - loss: 0.6906 - categorical_accuracy: 0.5357\n",
      "Epoch 270/2000\n",
      "1/1 [==============================] - 0s 19ms/step - loss: 0.6906 - categorical_accuracy: 0.5357\n",
      "Epoch 271/2000\n",
      "1/1 [==============================] - 0s 20ms/step - loss: 0.6906 - categorical_accuracy: 0.5357\n",
      "Epoch 272/2000\n",
      "1/1 [==============================] - 0s 21ms/step - loss: 0.6906 - categorical_accuracy: 0.5357\n",
      "Epoch 273/2000\n",
      "1/1 [==============================] - 0s 20ms/step - loss: 0.6906 - categorical_accuracy: 0.5357\n",
      "Epoch 274/2000\n",
      "1/1 [==============================] - 0s 19ms/step - loss: 0.6906 - categorical_accuracy: 0.5357\n",
      "Epoch 275/2000\n",
      "1/1 [==============================] - 0s 16ms/step - loss: 0.6906 - categorical_accuracy: 0.5357\n",
      "Epoch 276/2000\n",
      "1/1 [==============================] - 0s 18ms/step - loss: 0.6906 - categorical_accuracy: 0.5357\n",
      "Epoch 277/2000\n",
      "1/1 [==============================] - 0s 19ms/step - loss: 0.6906 - categorical_accuracy: 0.5357\n",
      "Epoch 278/2000\n",
      "1/1 [==============================] - 0s 20ms/step - loss: 0.6906 - categorical_accuracy: 0.5357\n",
      "Epoch 279/2000\n",
      "1/1 [==============================] - 0s 19ms/step - loss: 0.6906 - categorical_accuracy: 0.5357\n",
      "Epoch 280/2000\n",
      "1/1 [==============================] - 0s 19ms/step - loss: 0.6906 - categorical_accuracy: 0.5357\n",
      "Epoch 281/2000\n",
      "1/1 [==============================] - 0s 18ms/step - loss: 0.6906 - categorical_accuracy: 0.5357\n",
      "Epoch 282/2000\n",
      "1/1 [==============================] - 0s 16ms/step - loss: 0.6906 - categorical_accuracy: 0.5357\n",
      "Epoch 283/2000\n",
      "1/1 [==============================] - 0s 19ms/step - loss: 0.6906 - categorical_accuracy: 0.5357\n",
      "Epoch 284/2000\n",
      "1/1 [==============================] - 0s 17ms/step - loss: 0.6906 - categorical_accuracy: 0.5357\n",
      "Epoch 285/2000\n",
      "1/1 [==============================] - 0s 19ms/step - loss: 0.6906 - categorical_accuracy: 0.5357\n",
      "Epoch 286/2000\n",
      "1/1 [==============================] - 0s 19ms/step - loss: 0.6906 - categorical_accuracy: 0.5357\n",
      "Epoch 287/2000\n",
      "1/1 [==============================] - 0s 19ms/step - loss: 0.6906 - categorical_accuracy: 0.5357\n",
      "Epoch 288/2000\n",
      "1/1 [==============================] - 0s 20ms/step - loss: 0.6906 - categorical_accuracy: 0.5357\n",
      "Epoch 289/2000\n",
      "1/1 [==============================] - 0s 19ms/step - loss: 0.6906 - categorical_accuracy: 0.5357\n",
      "Epoch 290/2000\n"
     ]
    },
    {
     "name": "stdout",
     "output_type": "stream",
     "text": [
      "1/1 [==============================] - 0s 17ms/step - loss: 0.6906 - categorical_accuracy: 0.5357\n",
      "Epoch 291/2000\n",
      "1/1 [==============================] - 0s 18ms/step - loss: 0.6906 - categorical_accuracy: 0.5357\n",
      "Epoch 292/2000\n",
      "1/1 [==============================] - 0s 18ms/step - loss: 0.6906 - categorical_accuracy: 0.5357\n",
      "Epoch 293/2000\n",
      "1/1 [==============================] - 0s 19ms/step - loss: 0.6906 - categorical_accuracy: 0.5357\n",
      "Epoch 294/2000\n",
      "1/1 [==============================] - 0s 20ms/step - loss: 0.6906 - categorical_accuracy: 0.5357\n",
      "Epoch 295/2000\n",
      "1/1 [==============================] - 0s 20ms/step - loss: 0.6906 - categorical_accuracy: 0.5357\n",
      "Epoch 296/2000\n",
      "1/1 [==============================] - 0s 19ms/step - loss: 0.6906 - categorical_accuracy: 0.5357\n",
      "Epoch 297/2000\n",
      "1/1 [==============================] - 0s 16ms/step - loss: 0.6906 - categorical_accuracy: 0.5357\n",
      "Epoch 298/2000\n",
      "1/1 [==============================] - 0s 17ms/step - loss: 0.6906 - categorical_accuracy: 0.5357\n",
      "Epoch 299/2000\n",
      "1/1 [==============================] - 0s 17ms/step - loss: 0.6906 - categorical_accuracy: 0.5357\n",
      "Epoch 300/2000\n",
      "1/1 [==============================] - 0s 19ms/step - loss: 0.6906 - categorical_accuracy: 0.5357\n",
      "Epoch 301/2000\n",
      "1/1 [==============================] - 0s 20ms/step - loss: 0.6906 - categorical_accuracy: 0.5357\n",
      "Epoch 302/2000\n",
      "1/1 [==============================] - 0s 22ms/step - loss: 0.6906 - categorical_accuracy: 0.5357\n",
      "Epoch 303/2000\n",
      "1/1 [==============================] - 0s 18ms/step - loss: 0.6906 - categorical_accuracy: 0.5357\n",
      "Epoch 304/2000\n",
      "1/1 [==============================] - 0s 18ms/step - loss: 0.6906 - categorical_accuracy: 0.5357\n",
      "Epoch 305/2000\n",
      "1/1 [==============================] - 0s 19ms/step - loss: 0.6906 - categorical_accuracy: 0.5357\n",
      "Epoch 306/2000\n",
      "1/1 [==============================] - 0s 20ms/step - loss: 0.6906 - categorical_accuracy: 0.5357\n",
      "Epoch 307/2000\n",
      "1/1 [==============================] - 0s 21ms/step - loss: 0.6906 - categorical_accuracy: 0.5357\n",
      "Epoch 308/2000\n",
      "1/1 [==============================] - 0s 20ms/step - loss: 0.6906 - categorical_accuracy: 0.5357\n",
      "Epoch 309/2000\n",
      "1/1 [==============================] - 0s 19ms/step - loss: 0.6906 - categorical_accuracy: 0.5357\n",
      "Epoch 310/2000\n",
      "1/1 [==============================] - 0s 18ms/step - loss: 0.6906 - categorical_accuracy: 0.5357\n",
      "Epoch 311/2000\n",
      "1/1 [==============================] - 0s 16ms/step - loss: 0.6906 - categorical_accuracy: 0.5357\n",
      "Epoch 312/2000\n",
      "1/1 [==============================] - 0s 18ms/step - loss: 0.6906 - categorical_accuracy: 0.5357\n",
      "Epoch 313/2000\n",
      "1/1 [==============================] - 0s 19ms/step - loss: 0.6906 - categorical_accuracy: 0.5357\n",
      "Epoch 314/2000\n",
      "1/1 [==============================] - 0s 18ms/step - loss: 0.6906 - categorical_accuracy: 0.5357\n",
      "Epoch 315/2000\n",
      "1/1 [==============================] - 0s 17ms/step - loss: 0.6906 - categorical_accuracy: 0.5357\n",
      "Epoch 316/2000\n",
      "1/1 [==============================] - 0s 17ms/step - loss: 0.6906 - categorical_accuracy: 0.5357\n",
      "Epoch 317/2000\n",
      "1/1 [==============================] - 0s 17ms/step - loss: 0.6906 - categorical_accuracy: 0.5357\n",
      "Epoch 318/2000\n",
      "1/1 [==============================] - 0s 18ms/step - loss: 0.6906 - categorical_accuracy: 0.5357\n",
      "Epoch 319/2000\n",
      "1/1 [==============================] - 0s 16ms/step - loss: 0.6906 - categorical_accuracy: 0.5357\n",
      "Epoch 320/2000\n",
      "1/1 [==============================] - 0s 19ms/step - loss: 0.6906 - categorical_accuracy: 0.5357\n",
      "Epoch 321/2000\n",
      "1/1 [==============================] - 0s 19ms/step - loss: 0.6906 - categorical_accuracy: 0.5357\n",
      "Epoch 322/2000\n",
      "1/1 [==============================] - 0s 18ms/step - loss: 0.6906 - categorical_accuracy: 0.5357\n",
      "Epoch 323/2000\n",
      "1/1 [==============================] - 0s 18ms/step - loss: 0.6906 - categorical_accuracy: 0.5357\n",
      "Epoch 324/2000\n",
      "1/1 [==============================] - 0s 17ms/step - loss: 0.6906 - categorical_accuracy: 0.5357\n",
      "Epoch 325/2000\n",
      "1/1 [==============================] - 0s 18ms/step - loss: 0.6906 - categorical_accuracy: 0.5357\n",
      "Epoch 326/2000\n",
      "1/1 [==============================] - 0s 16ms/step - loss: 0.6906 - categorical_accuracy: 0.5357\n",
      "Epoch 327/2000\n",
      "1/1 [==============================] - 0s 17ms/step - loss: 0.6906 - categorical_accuracy: 0.5357\n",
      "Epoch 328/2000\n",
      "1/1 [==============================] - 0s 19ms/step - loss: 0.6906 - categorical_accuracy: 0.5357\n",
      "Epoch 329/2000\n",
      "1/1 [==============================] - 0s 18ms/step - loss: 0.6906 - categorical_accuracy: 0.5357\n",
      "Epoch 330/2000\n",
      "1/1 [==============================] - 0s 17ms/step - loss: 0.6906 - categorical_accuracy: 0.5357\n",
      "Epoch 331/2000\n",
      "1/1 [==============================] - 0s 18ms/step - loss: 0.6906 - categorical_accuracy: 0.5357\n",
      "Epoch 332/2000\n",
      "1/1 [==============================] - 0s 18ms/step - loss: 0.6906 - categorical_accuracy: 0.5357\n",
      "Epoch 333/2000\n",
      "1/1 [==============================] - 0s 18ms/step - loss: 0.6906 - categorical_accuracy: 0.5357\n",
      "Epoch 334/2000\n",
      "1/1 [==============================] - 0s 17ms/step - loss: 0.6906 - categorical_accuracy: 0.5357\n",
      "Epoch 335/2000\n",
      "1/1 [==============================] - 0s 19ms/step - loss: 0.6906 - categorical_accuracy: 0.5357\n",
      "Epoch 336/2000\n",
      "1/1 [==============================] - 0s 17ms/step - loss: 0.6906 - categorical_accuracy: 0.5357\n",
      "Epoch 337/2000\n",
      "1/1 [==============================] - 0s 18ms/step - loss: 0.6906 - categorical_accuracy: 0.5357\n",
      "Epoch 338/2000\n",
      "1/1 [==============================] - 0s 18ms/step - loss: 0.6906 - categorical_accuracy: 0.5357\n",
      "Epoch 339/2000\n",
      "1/1 [==============================] - 0s 19ms/step - loss: 0.6906 - categorical_accuracy: 0.5357\n",
      "Epoch 340/2000\n",
      "1/1 [==============================] - 0s 17ms/step - loss: 0.6906 - categorical_accuracy: 0.5357\n",
      "Epoch 341/2000\n",
      "1/1 [==============================] - 0s 18ms/step - loss: 0.6906 - categorical_accuracy: 0.5357\n",
      "Epoch 342/2000\n",
      "1/1 [==============================] - 0s 19ms/step - loss: 0.6906 - categorical_accuracy: 0.5357\n",
      "Epoch 343/2000\n",
      "1/1 [==============================] - 0s 19ms/step - loss: 0.6906 - categorical_accuracy: 0.5357\n",
      "Epoch 344/2000\n",
      "1/1 [==============================] - 0s 17ms/step - loss: 0.6906 - categorical_accuracy: 0.5357\n",
      "Epoch 345/2000\n",
      "1/1 [==============================] - 0s 17ms/step - loss: 0.6906 - categorical_accuracy: 0.5357\n",
      "Epoch 346/2000\n",
      "1/1 [==============================] - 0s 19ms/step - loss: 0.6906 - categorical_accuracy: 0.5357\n",
      "Epoch 347/2000\n",
      "1/1 [==============================] - 0s 18ms/step - loss: 0.6906 - categorical_accuracy: 0.5357\n",
      "Epoch 348/2000\n",
      "1/1 [==============================] - 0s 18ms/step - loss: 0.6906 - categorical_accuracy: 0.5357\n",
      "Epoch 349/2000\n",
      "1/1 [==============================] - 0s 18ms/step - loss: 0.6906 - categorical_accuracy: 0.5357\n",
      "Epoch 350/2000\n",
      "1/1 [==============================] - 0s 19ms/step - loss: 0.6906 - categorical_accuracy: 0.5357\n",
      "Epoch 351/2000\n",
      "1/1 [==============================] - 0s 19ms/step - loss: 0.6906 - categorical_accuracy: 0.5357\n",
      "Epoch 352/2000\n",
      "1/1 [==============================] - 0s 19ms/step - loss: 0.6906 - categorical_accuracy: 0.5357\n",
      "Epoch 353/2000\n",
      "1/1 [==============================] - 0s 19ms/step - loss: 0.6906 - categorical_accuracy: 0.5357\n",
      "Epoch 354/2000\n",
      "1/1 [==============================] - 0s 19ms/step - loss: 0.6906 - categorical_accuracy: 0.5357\n",
      "Epoch 355/2000\n",
      "1/1 [==============================] - 0s 20ms/step - loss: 0.6906 - categorical_accuracy: 0.5357\n",
      "Epoch 356/2000\n",
      "1/1 [==============================] - 0s 17ms/step - loss: 0.6906 - categorical_accuracy: 0.5357\n",
      "Epoch 357/2000\n",
      "1/1 [==============================] - 0s 18ms/step - loss: 0.6906 - categorical_accuracy: 0.5357\n",
      "Epoch 358/2000\n",
      "1/1 [==============================] - 0s 19ms/step - loss: 0.6906 - categorical_accuracy: 0.5357\n",
      "Epoch 359/2000\n",
      "1/1 [==============================] - 0s 18ms/step - loss: 0.6906 - categorical_accuracy: 0.5357\n",
      "Epoch 360/2000\n",
      "1/1 [==============================] - 0s 19ms/step - loss: 0.6906 - categorical_accuracy: 0.5357\n",
      "Epoch 361/2000\n",
      "1/1 [==============================] - 0s 19ms/step - loss: 0.6906 - categorical_accuracy: 0.5357\n",
      "Epoch 362/2000\n"
     ]
    },
    {
     "name": "stdout",
     "output_type": "stream",
     "text": [
      "1/1 [==============================] - 0s 18ms/step - loss: 0.6906 - categorical_accuracy: 0.5357\n",
      "Epoch 363/2000\n",
      "1/1 [==============================] - 0s 17ms/step - loss: 0.6906 - categorical_accuracy: 0.5357\n",
      "Epoch 364/2000\n",
      "1/1 [==============================] - 0s 19ms/step - loss: 0.6906 - categorical_accuracy: 0.5357\n",
      "Epoch 365/2000\n",
      "1/1 [==============================] - 0s 19ms/step - loss: 0.6906 - categorical_accuracy: 0.5357\n",
      "Epoch 366/2000\n",
      "1/1 [==============================] - 0s 18ms/step - loss: 0.6906 - categorical_accuracy: 0.5357\n",
      "Epoch 367/2000\n",
      "1/1 [==============================] - 0s 18ms/step - loss: 0.6906 - categorical_accuracy: 0.5357\n",
      "Epoch 368/2000\n",
      "1/1 [==============================] - 0s 18ms/step - loss: 0.6906 - categorical_accuracy: 0.5357\n",
      "Epoch 369/2000\n",
      "1/1 [==============================] - 0s 19ms/step - loss: 0.6906 - categorical_accuracy: 0.5357\n",
      "Epoch 370/2000\n",
      "1/1 [==============================] - 0s 18ms/step - loss: 0.6906 - categorical_accuracy: 0.5357\n",
      "Epoch 371/2000\n",
      "1/1 [==============================] - 0s 18ms/step - loss: 0.6906 - categorical_accuracy: 0.5357\n",
      "Epoch 372/2000\n",
      "1/1 [==============================] - 0s 18ms/step - loss: 0.6906 - categorical_accuracy: 0.5357\n",
      "Epoch 373/2000\n",
      "1/1 [==============================] - 0s 17ms/step - loss: 0.6906 - categorical_accuracy: 0.5357\n",
      "Epoch 374/2000\n",
      "1/1 [==============================] - 0s 18ms/step - loss: 0.6906 - categorical_accuracy: 0.5357\n",
      "Epoch 375/2000\n",
      "1/1 [==============================] - 0s 18ms/step - loss: 0.6906 - categorical_accuracy: 0.5357\n",
      "Epoch 376/2000\n",
      "1/1 [==============================] - 0s 17ms/step - loss: 0.6906 - categorical_accuracy: 0.5357\n",
      "Epoch 377/2000\n",
      "1/1 [==============================] - 0s 20ms/step - loss: 0.6906 - categorical_accuracy: 0.5357\n",
      "Epoch 378/2000\n",
      "1/1 [==============================] - 0s 18ms/step - loss: 0.6906 - categorical_accuracy: 0.5357\n",
      "Epoch 379/2000\n",
      "1/1 [==============================] - 0s 17ms/step - loss: 0.6906 - categorical_accuracy: 0.5357\n",
      "Epoch 380/2000\n",
      "1/1 [==============================] - 0s 18ms/step - loss: 0.6906 - categorical_accuracy: 0.5357\n",
      "Epoch 381/2000\n",
      "1/1 [==============================] - 0s 18ms/step - loss: 0.6906 - categorical_accuracy: 0.5357\n",
      "Epoch 382/2000\n",
      "1/1 [==============================] - 0s 20ms/step - loss: 0.6906 - categorical_accuracy: 0.5357\n",
      "Epoch 383/2000\n",
      "1/1 [==============================] - 0s 18ms/step - loss: 0.6906 - categorical_accuracy: 0.5357\n",
      "Epoch 384/2000\n",
      "1/1 [==============================] - 0s 18ms/step - loss: 0.6906 - categorical_accuracy: 0.5357\n",
      "Epoch 385/2000\n",
      "1/1 [==============================] - 0s 18ms/step - loss: 0.6906 - categorical_accuracy: 0.5357\n",
      "Epoch 386/2000\n",
      "1/1 [==============================] - 0s 16ms/step - loss: 0.6906 - categorical_accuracy: 0.5357\n",
      "Epoch 387/2000\n",
      "1/1 [==============================] - 0s 20ms/step - loss: 0.6906 - categorical_accuracy: 0.5357\n",
      "Epoch 388/2000\n",
      "1/1 [==============================] - 0s 19ms/step - loss: 0.6906 - categorical_accuracy: 0.5357\n",
      "Epoch 389/2000\n",
      "1/1 [==============================] - 0s 26ms/step - loss: 0.6906 - categorical_accuracy: 0.5357\n",
      "Epoch 390/2000\n",
      "1/1 [==============================] - 0s 20ms/step - loss: 0.6906 - categorical_accuracy: 0.5357\n",
      "Epoch 391/2000\n",
      "1/1 [==============================] - 0s 19ms/step - loss: 0.6906 - categorical_accuracy: 0.5357\n",
      "Epoch 392/2000\n",
      "1/1 [==============================] - 0s 18ms/step - loss: 0.6906 - categorical_accuracy: 0.5357\n",
      "Epoch 393/2000\n",
      "1/1 [==============================] - 0s 19ms/step - loss: 0.6906 - categorical_accuracy: 0.5357\n",
      "Epoch 394/2000\n",
      "1/1 [==============================] - 0s 17ms/step - loss: 0.6906 - categorical_accuracy: 0.5357\n",
      "Epoch 395/2000\n",
      "1/1 [==============================] - 0s 17ms/step - loss: 0.6906 - categorical_accuracy: 0.5357\n",
      "Epoch 396/2000\n",
      "1/1 [==============================] - 0s 17ms/step - loss: 0.6906 - categorical_accuracy: 0.5357\n",
      "Epoch 397/2000\n",
      "1/1 [==============================] - 0s 17ms/step - loss: 0.6906 - categorical_accuracy: 0.5357\n",
      "Epoch 398/2000\n",
      "1/1 [==============================] - 0s 16ms/step - loss: 0.6906 - categorical_accuracy: 0.5357\n",
      "Epoch 399/2000\n",
      "1/1 [==============================] - 0s 17ms/step - loss: 0.6906 - categorical_accuracy: 0.5357\n",
      "Epoch 400/2000\n",
      "1/1 [==============================] - 0s 17ms/step - loss: 0.6906 - categorical_accuracy: 0.5357\n",
      "Epoch 401/2000\n",
      "1/1 [==============================] - 0s 17ms/step - loss: 0.6906 - categorical_accuracy: 0.5357\n",
      "Epoch 402/2000\n",
      "1/1 [==============================] - 0s 20ms/step - loss: 0.6906 - categorical_accuracy: 0.5357\n",
      "Epoch 403/2000\n",
      "1/1 [==============================] - 0s 19ms/step - loss: 0.6906 - categorical_accuracy: 0.5357\n",
      "Epoch 404/2000\n",
      "1/1 [==============================] - 0s 19ms/step - loss: 0.6906 - categorical_accuracy: 0.5357\n",
      "Epoch 405/2000\n",
      "1/1 [==============================] - 0s 19ms/step - loss: 0.6906 - categorical_accuracy: 0.5357\n",
      "Epoch 406/2000\n",
      "1/1 [==============================] - 0s 18ms/step - loss: 0.6906 - categorical_accuracy: 0.5357\n",
      "Epoch 407/2000\n",
      "1/1 [==============================] - 0s 19ms/step - loss: 0.6906 - categorical_accuracy: 0.5357\n",
      "Epoch 408/2000\n",
      "1/1 [==============================] - 0s 17ms/step - loss: 0.6906 - categorical_accuracy: 0.5357\n",
      "Epoch 409/2000\n",
      "1/1 [==============================] - 0s 18ms/step - loss: 0.6906 - categorical_accuracy: 0.5357\n",
      "Epoch 410/2000\n",
      "1/1 [==============================] - 0s 17ms/step - loss: 0.6906 - categorical_accuracy: 0.5357\n",
      "Epoch 411/2000\n",
      "1/1 [==============================] - 0s 17ms/step - loss: 0.6906 - categorical_accuracy: 0.5357\n",
      "Epoch 412/2000\n",
      "1/1 [==============================] - 0s 17ms/step - loss: 0.6906 - categorical_accuracy: 0.5357\n",
      "Epoch 413/2000\n",
      "1/1 [==============================] - 0s 19ms/step - loss: 0.6906 - categorical_accuracy: 0.5357\n",
      "Epoch 414/2000\n",
      "1/1 [==============================] - 0s 18ms/step - loss: 0.6906 - categorical_accuracy: 0.5357\n",
      "Epoch 415/2000\n",
      "1/1 [==============================] - 0s 16ms/step - loss: 0.6906 - categorical_accuracy: 0.5357\n",
      "Epoch 416/2000\n",
      "1/1 [==============================] - 0s 19ms/step - loss: 0.6906 - categorical_accuracy: 0.5357\n",
      "Epoch 417/2000\n",
      "1/1 [==============================] - 0s 18ms/step - loss: 0.6906 - categorical_accuracy: 0.5357\n",
      "Epoch 418/2000\n",
      "1/1 [==============================] - 0s 18ms/step - loss: 0.6906 - categorical_accuracy: 0.5357\n",
      "Epoch 419/2000\n",
      "1/1 [==============================] - 0s 18ms/step - loss: 0.6906 - categorical_accuracy: 0.5357\n",
      "Epoch 420/2000\n",
      "1/1 [==============================] - 0s 20ms/step - loss: 0.6906 - categorical_accuracy: 0.5357\n",
      "Epoch 421/2000\n",
      "1/1 [==============================] - 0s 19ms/step - loss: 0.6906 - categorical_accuracy: 0.5357\n",
      "Epoch 422/2000\n",
      "1/1 [==============================] - 0s 17ms/step - loss: 0.6906 - categorical_accuracy: 0.5357\n",
      "Epoch 423/2000\n",
      "1/1 [==============================] - 0s 19ms/step - loss: 0.6906 - categorical_accuracy: 0.5357\n",
      "Epoch 424/2000\n",
      "1/1 [==============================] - 0s 18ms/step - loss: 0.6906 - categorical_accuracy: 0.5357\n",
      "Epoch 425/2000\n",
      "1/1 [==============================] - 0s 19ms/step - loss: 0.6906 - categorical_accuracy: 0.5357\n",
      "Epoch 426/2000\n",
      "1/1 [==============================] - 0s 19ms/step - loss: 0.6906 - categorical_accuracy: 0.5357\n",
      "Epoch 427/2000\n",
      "1/1 [==============================] - 0s 17ms/step - loss: 0.6906 - categorical_accuracy: 0.5357\n",
      "Epoch 428/2000\n",
      "1/1 [==============================] - 0s 17ms/step - loss: 0.6906 - categorical_accuracy: 0.5357\n",
      "Epoch 429/2000\n",
      "1/1 [==============================] - 0s 18ms/step - loss: 0.6906 - categorical_accuracy: 0.5357\n",
      "Epoch 430/2000\n",
      "1/1 [==============================] - 0s 17ms/step - loss: 0.6906 - categorical_accuracy: 0.5357\n",
      "Epoch 431/2000\n",
      "1/1 [==============================] - 0s 17ms/step - loss: 0.6906 - categorical_accuracy: 0.5357\n",
      "Epoch 432/2000\n",
      "1/1 [==============================] - 0s 18ms/step - loss: 0.6906 - categorical_accuracy: 0.5357\n",
      "Epoch 433/2000\n",
      "1/1 [==============================] - 0s 17ms/step - loss: 0.6906 - categorical_accuracy: 0.5357\n",
      "Epoch 434/2000\n"
     ]
    },
    {
     "name": "stdout",
     "output_type": "stream",
     "text": [
      "1/1 [==============================] - 0s 19ms/step - loss: 0.6906 - categorical_accuracy: 0.5357\n",
      "Epoch 435/2000\n",
      "1/1 [==============================] - 0s 17ms/step - loss: 0.6906 - categorical_accuracy: 0.5357\n",
      "Epoch 436/2000\n",
      "1/1 [==============================] - 0s 19ms/step - loss: 0.6906 - categorical_accuracy: 0.5357\n",
      "Epoch 437/2000\n",
      "1/1 [==============================] - 0s 21ms/step - loss: 0.6906 - categorical_accuracy: 0.5357\n",
      "Epoch 438/2000\n",
      "1/1 [==============================] - 0s 19ms/step - loss: 0.6906 - categorical_accuracy: 0.5357\n",
      "Epoch 439/2000\n",
      "1/1 [==============================] - 0s 19ms/step - loss: 0.6906 - categorical_accuracy: 0.5357\n",
      "Epoch 440/2000\n",
      "1/1 [==============================] - 0s 18ms/step - loss: 0.6906 - categorical_accuracy: 0.5357\n",
      "Epoch 441/2000\n",
      "1/1 [==============================] - 0s 18ms/step - loss: 0.6906 - categorical_accuracy: 0.5357\n",
      "Epoch 442/2000\n",
      "1/1 [==============================] - 0s 17ms/step - loss: 0.6906 - categorical_accuracy: 0.5357\n",
      "Epoch 443/2000\n",
      "1/1 [==============================] - 0s 17ms/step - loss: 0.6906 - categorical_accuracy: 0.5357\n",
      "Epoch 444/2000\n",
      "1/1 [==============================] - 0s 17ms/step - loss: 0.6906 - categorical_accuracy: 0.5357\n",
      "Epoch 445/2000\n",
      "1/1 [==============================] - 0s 17ms/step - loss: 0.6906 - categorical_accuracy: 0.5357\n",
      "Epoch 446/2000\n",
      "1/1 [==============================] - 0s 17ms/step - loss: 0.6906 - categorical_accuracy: 0.5357\n",
      "Epoch 447/2000\n",
      "1/1 [==============================] - 0s 17ms/step - loss: 0.6906 - categorical_accuracy: 0.5357\n",
      "Epoch 448/2000\n",
      "1/1 [==============================] - 0s 17ms/step - loss: 0.6906 - categorical_accuracy: 0.5357\n",
      "Epoch 449/2000\n",
      "1/1 [==============================] - 0s 17ms/step - loss: 0.6906 - categorical_accuracy: 0.5357\n",
      "Epoch 450/2000\n",
      "1/1 [==============================] - 0s 17ms/step - loss: 0.6906 - categorical_accuracy: 0.5357\n",
      "Epoch 451/2000\n",
      "1/1 [==============================] - 0s 16ms/step - loss: 0.6906 - categorical_accuracy: 0.5357\n",
      "Epoch 452/2000\n",
      "1/1 [==============================] - 0s 18ms/step - loss: 0.6906 - categorical_accuracy: 0.5357\n",
      "Epoch 453/2000\n",
      "1/1 [==============================] - 0s 16ms/step - loss: 0.6906 - categorical_accuracy: 0.5357\n",
      "Epoch 454/2000\n",
      "1/1 [==============================] - 0s 16ms/step - loss: 0.6906 - categorical_accuracy: 0.5357\n",
      "Epoch 455/2000\n",
      "1/1 [==============================] - 0s 18ms/step - loss: 0.6906 - categorical_accuracy: 0.5357\n",
      "Epoch 456/2000\n",
      "1/1 [==============================] - 0s 18ms/step - loss: 0.6906 - categorical_accuracy: 0.5357\n",
      "Epoch 457/2000\n",
      "1/1 [==============================] - 0s 17ms/step - loss: 0.6906 - categorical_accuracy: 0.5357\n",
      "Epoch 458/2000\n",
      "1/1 [==============================] - 0s 17ms/step - loss: 0.6906 - categorical_accuracy: 0.5357\n",
      "Epoch 459/2000\n",
      "1/1 [==============================] - 0s 16ms/step - loss: 0.6906 - categorical_accuracy: 0.5357\n",
      "Epoch 460/2000\n",
      "1/1 [==============================] - 0s 16ms/step - loss: 0.6906 - categorical_accuracy: 0.5357\n",
      "Epoch 461/2000\n",
      "1/1 [==============================] - 0s 19ms/step - loss: 0.6906 - categorical_accuracy: 0.5357\n",
      "Epoch 462/2000\n",
      "1/1 [==============================] - 0s 17ms/step - loss: 0.6906 - categorical_accuracy: 0.5357\n",
      "Epoch 463/2000\n",
      "1/1 [==============================] - 0s 16ms/step - loss: 0.6906 - categorical_accuracy: 0.5357\n",
      "Epoch 464/2000\n",
      "1/1 [==============================] - 0s 16ms/step - loss: 0.6906 - categorical_accuracy: 0.5357\n",
      "Epoch 465/2000\n",
      "1/1 [==============================] - 0s 18ms/step - loss: 0.6906 - categorical_accuracy: 0.5357\n",
      "Epoch 466/2000\n",
      "1/1 [==============================] - 0s 16ms/step - loss: 0.6906 - categorical_accuracy: 0.5357\n",
      "Epoch 467/2000\n",
      "1/1 [==============================] - 0s 17ms/step - loss: 0.6906 - categorical_accuracy: 0.5357\n",
      "Epoch 468/2000\n",
      "1/1 [==============================] - 0s 17ms/step - loss: 0.6906 - categorical_accuracy: 0.5357\n",
      "Epoch 469/2000\n",
      "1/1 [==============================] - 0s 24ms/step - loss: 0.6906 - categorical_accuracy: 0.5357\n",
      "Epoch 470/2000\n",
      "1/1 [==============================] - 0s 17ms/step - loss: 0.6906 - categorical_accuracy: 0.5357\n",
      "Epoch 471/2000\n",
      "1/1 [==============================] - 0s 18ms/step - loss: 0.6906 - categorical_accuracy: 0.5357\n",
      "Epoch 472/2000\n",
      "1/1 [==============================] - 0s 17ms/step - loss: 0.6906 - categorical_accuracy: 0.5357\n",
      "Epoch 473/2000\n",
      "1/1 [==============================] - 0s 18ms/step - loss: 0.6906 - categorical_accuracy: 0.5357\n",
      "Epoch 474/2000\n",
      "1/1 [==============================] - 0s 20ms/step - loss: 0.6906 - categorical_accuracy: 0.5357\n",
      "Epoch 475/2000\n",
      "1/1 [==============================] - 0s 17ms/step - loss: 0.6906 - categorical_accuracy: 0.5357\n",
      "Epoch 476/2000\n",
      "1/1 [==============================] - 0s 17ms/step - loss: 0.6906 - categorical_accuracy: 0.5357\n",
      "Epoch 477/2000\n",
      "1/1 [==============================] - 0s 17ms/step - loss: 0.6906 - categorical_accuracy: 0.5357\n",
      "Epoch 478/2000\n",
      "1/1 [==============================] - 0s 16ms/step - loss: 0.6906 - categorical_accuracy: 0.5357\n",
      "Epoch 479/2000\n",
      "1/1 [==============================] - 0s 18ms/step - loss: 0.6906 - categorical_accuracy: 0.5357\n",
      "Epoch 480/2000\n",
      "1/1 [==============================] - 0s 16ms/step - loss: 0.6906 - categorical_accuracy: 0.5357\n",
      "Epoch 481/2000\n",
      "1/1 [==============================] - 0s 17ms/step - loss: 0.6906 - categorical_accuracy: 0.5357\n",
      "Epoch 482/2000\n",
      "1/1 [==============================] - 0s 17ms/step - loss: 0.6906 - categorical_accuracy: 0.5357\n",
      "Epoch 483/2000\n",
      "1/1 [==============================] - 0s 17ms/step - loss: 0.6906 - categorical_accuracy: 0.5357\n",
      "Epoch 484/2000\n",
      "1/1 [==============================] - 0s 18ms/step - loss: 0.6906 - categorical_accuracy: 0.5357\n",
      "Epoch 485/2000\n",
      "1/1 [==============================] - 0s 17ms/step - loss: 0.6906 - categorical_accuracy: 0.5357\n",
      "Epoch 486/2000\n",
      "1/1 [==============================] - 0s 16ms/step - loss: 0.6906 - categorical_accuracy: 0.5357\n",
      "Epoch 487/2000\n",
      "1/1 [==============================] - 0s 17ms/step - loss: 0.6906 - categorical_accuracy: 0.5357\n",
      "Epoch 488/2000\n",
      "1/1 [==============================] - 0s 18ms/step - loss: 0.6906 - categorical_accuracy: 0.5357\n",
      "Epoch 489/2000\n",
      "1/1 [==============================] - 0s 17ms/step - loss: 0.6906 - categorical_accuracy: 0.5357\n",
      "Epoch 490/2000\n",
      "1/1 [==============================] - 0s 17ms/step - loss: 0.6906 - categorical_accuracy: 0.5357\n",
      "Epoch 491/2000\n",
      "1/1 [==============================] - 0s 18ms/step - loss: 0.6906 - categorical_accuracy: 0.5357\n",
      "Epoch 492/2000\n",
      "1/1 [==============================] - 0s 17ms/step - loss: 0.6906 - categorical_accuracy: 0.5357\n",
      "Epoch 493/2000\n",
      "1/1 [==============================] - 0s 17ms/step - loss: 0.6906 - categorical_accuracy: 0.5357\n",
      "Epoch 494/2000\n",
      "1/1 [==============================] - 0s 17ms/step - loss: 0.6906 - categorical_accuracy: 0.5357\n",
      "Epoch 495/2000\n",
      "1/1 [==============================] - 0s 17ms/step - loss: 0.6906 - categorical_accuracy: 0.5357\n",
      "Epoch 496/2000\n",
      "1/1 [==============================] - 0s 18ms/step - loss: 0.6906 - categorical_accuracy: 0.5357\n",
      "Epoch 497/2000\n",
      "1/1 [==============================] - 0s 17ms/step - loss: 0.6906 - categorical_accuracy: 0.5357\n",
      "Epoch 498/2000\n",
      "1/1 [==============================] - 0s 17ms/step - loss: 0.6906 - categorical_accuracy: 0.5357\n",
      "Epoch 499/2000\n",
      "1/1 [==============================] - 0s 17ms/step - loss: 0.6906 - categorical_accuracy: 0.5357\n",
      "Epoch 500/2000\n",
      "1/1 [==============================] - 0s 17ms/step - loss: 0.6906 - categorical_accuracy: 0.5357\n",
      "Epoch 501/2000\n",
      "1/1 [==============================] - 0s 16ms/step - loss: 0.6906 - categorical_accuracy: 0.5357\n",
      "Epoch 502/2000\n",
      "1/1 [==============================] - 0s 18ms/step - loss: 0.6906 - categorical_accuracy: 0.5357\n",
      "Epoch 503/2000\n",
      "1/1 [==============================] - 0s 17ms/step - loss: 0.6906 - categorical_accuracy: 0.5357\n",
      "Epoch 504/2000\n",
      "1/1 [==============================] - 0s 16ms/step - loss: 0.6906 - categorical_accuracy: 0.5357\n",
      "Epoch 505/2000\n",
      "1/1 [==============================] - 0s 17ms/step - loss: 0.6906 - categorical_accuracy: 0.5357\n",
      "Epoch 506/2000\n"
     ]
    },
    {
     "name": "stdout",
     "output_type": "stream",
     "text": [
      "1/1 [==============================] - 0s 16ms/step - loss: 0.6906 - categorical_accuracy: 0.5357\n",
      "Epoch 507/2000\n",
      "1/1 [==============================] - 0s 16ms/step - loss: 0.6906 - categorical_accuracy: 0.5357\n",
      "Epoch 508/2000\n",
      "1/1 [==============================] - 0s 19ms/step - loss: 0.6906 - categorical_accuracy: 0.5357\n",
      "Epoch 509/2000\n",
      "1/1 [==============================] - 0s 17ms/step - loss: 0.6906 - categorical_accuracy: 0.5357\n",
      "Epoch 510/2000\n",
      "1/1 [==============================] - 0s 17ms/step - loss: 0.6906 - categorical_accuracy: 0.5357\n",
      "Epoch 511/2000\n",
      "1/1 [==============================] - 0s 17ms/step - loss: 0.6906 - categorical_accuracy: 0.5357\n",
      "Epoch 512/2000\n",
      "1/1 [==============================] - 0s 18ms/step - loss: 0.6906 - categorical_accuracy: 0.5357\n",
      "Epoch 513/2000\n",
      "1/1 [==============================] - 0s 17ms/step - loss: 0.6906 - categorical_accuracy: 0.5357\n",
      "Epoch 514/2000\n",
      "1/1 [==============================] - 0s 17ms/step - loss: 0.6906 - categorical_accuracy: 0.5357\n",
      "Epoch 515/2000\n",
      "1/1 [==============================] - 0s 18ms/step - loss: 0.6906 - categorical_accuracy: 0.5357\n",
      "Epoch 516/2000\n",
      "1/1 [==============================] - 0s 18ms/step - loss: 0.6906 - categorical_accuracy: 0.5357\n",
      "Epoch 517/2000\n",
      "1/1 [==============================] - 0s 19ms/step - loss: 0.6906 - categorical_accuracy: 0.5357\n",
      "Epoch 518/2000\n",
      "1/1 [==============================] - 0s 20ms/step - loss: 0.6906 - categorical_accuracy: 0.5357\n",
      "Epoch 519/2000\n",
      "1/1 [==============================] - 0s 17ms/step - loss: 0.6906 - categorical_accuracy: 0.5357\n",
      "Epoch 520/2000\n",
      "1/1 [==============================] - 0s 20ms/step - loss: 0.6906 - categorical_accuracy: 0.5357\n",
      "Epoch 521/2000\n",
      "1/1 [==============================] - 0s 19ms/step - loss: 0.6906 - categorical_accuracy: 0.5357\n",
      "Epoch 522/2000\n",
      "1/1 [==============================] - 0s 19ms/step - loss: 0.6906 - categorical_accuracy: 0.5357\n",
      "Epoch 523/2000\n",
      "1/1 [==============================] - 0s 17ms/step - loss: 0.6906 - categorical_accuracy: 0.5357\n",
      "Epoch 524/2000\n",
      "1/1 [==============================] - 0s 18ms/step - loss: 0.6906 - categorical_accuracy: 0.5357\n",
      "Epoch 525/2000\n",
      "1/1 [==============================] - 0s 17ms/step - loss: 0.6906 - categorical_accuracy: 0.5357\n",
      "Epoch 526/2000\n",
      "1/1 [==============================] - 0s 18ms/step - loss: 0.6906 - categorical_accuracy: 0.5357\n",
      "Epoch 527/2000\n",
      "1/1 [==============================] - 0s 18ms/step - loss: 0.6906 - categorical_accuracy: 0.5357\n",
      "Epoch 528/2000\n",
      "1/1 [==============================] - 0s 16ms/step - loss: 0.6906 - categorical_accuracy: 0.5357\n",
      "Epoch 529/2000\n",
      "1/1 [==============================] - 0s 19ms/step - loss: 0.6906 - categorical_accuracy: 0.5357\n",
      "Epoch 530/2000\n",
      "1/1 [==============================] - 0s 18ms/step - loss: 0.6906 - categorical_accuracy: 0.5357\n",
      "Epoch 531/2000\n",
      "1/1 [==============================] - 0s 19ms/step - loss: 0.6906 - categorical_accuracy: 0.5357\n",
      "Epoch 532/2000\n",
      "1/1 [==============================] - 0s 16ms/step - loss: 0.6906 - categorical_accuracy: 0.5357\n",
      "Epoch 533/2000\n",
      "1/1 [==============================] - 0s 18ms/step - loss: 0.6906 - categorical_accuracy: 0.5357\n",
      "Epoch 534/2000\n",
      "1/1 [==============================] - 0s 17ms/step - loss: 0.6906 - categorical_accuracy: 0.5357\n",
      "Epoch 535/2000\n",
      "1/1 [==============================] - 0s 17ms/step - loss: 0.6906 - categorical_accuracy: 0.5357\n",
      "Epoch 536/2000\n",
      "1/1 [==============================] - 0s 18ms/step - loss: 0.6906 - categorical_accuracy: 0.5357\n",
      "Epoch 537/2000\n",
      "1/1 [==============================] - 0s 18ms/step - loss: 0.6906 - categorical_accuracy: 0.5357\n",
      "Epoch 538/2000\n",
      "1/1 [==============================] - 0s 19ms/step - loss: 0.6906 - categorical_accuracy: 0.5357\n",
      "Epoch 539/2000\n",
      "1/1 [==============================] - 0s 19ms/step - loss: 0.6906 - categorical_accuracy: 0.5357\n",
      "Epoch 540/2000\n",
      "1/1 [==============================] - 0s 18ms/step - loss: 0.6906 - categorical_accuracy: 0.5357\n",
      "Epoch 541/2000\n",
      "1/1 [==============================] - 0s 16ms/step - loss: 0.6906 - categorical_accuracy: 0.5357\n",
      "Epoch 542/2000\n",
      "1/1 [==============================] - 0s 17ms/step - loss: 0.6906 - categorical_accuracy: 0.5357\n",
      "Epoch 543/2000\n",
      "1/1 [==============================] - 0s 17ms/step - loss: 0.6906 - categorical_accuracy: 0.5357\n",
      "Epoch 544/2000\n",
      "1/1 [==============================] - 0s 17ms/step - loss: 0.6906 - categorical_accuracy: 0.5357\n",
      "Epoch 545/2000\n",
      "1/1 [==============================] - 0s 17ms/step - loss: 0.6906 - categorical_accuracy: 0.5357\n",
      "Epoch 546/2000\n",
      "1/1 [==============================] - 0s 16ms/step - loss: 0.6906 - categorical_accuracy: 0.5357\n",
      "Epoch 547/2000\n",
      "1/1 [==============================] - 0s 18ms/step - loss: 0.6906 - categorical_accuracy: 0.5357\n",
      "Epoch 548/2000\n",
      "1/1 [==============================] - 0s 19ms/step - loss: 0.6906 - categorical_accuracy: 0.5357\n",
      "Epoch 549/2000\n",
      "1/1 [==============================] - 0s 21ms/step - loss: 0.6906 - categorical_accuracy: 0.5357\n",
      "Epoch 550/2000\n",
      "1/1 [==============================] - 0s 19ms/step - loss: 0.6906 - categorical_accuracy: 0.5357\n",
      "Epoch 551/2000\n",
      "1/1 [==============================] - 0s 22ms/step - loss: 0.6906 - categorical_accuracy: 0.5357\n",
      "Epoch 552/2000\n",
      "1/1 [==============================] - 0s 18ms/step - loss: 0.6906 - categorical_accuracy: 0.5357\n",
      "Epoch 553/2000\n",
      "1/1 [==============================] - 0s 20ms/step - loss: 0.6906 - categorical_accuracy: 0.5357\n",
      "Epoch 554/2000\n",
      "1/1 [==============================] - 0s 19ms/step - loss: 0.6906 - categorical_accuracy: 0.5357\n",
      "Epoch 555/2000\n",
      "1/1 [==============================] - 0s 19ms/step - loss: 0.6906 - categorical_accuracy: 0.5357\n",
      "Epoch 556/2000\n",
      "1/1 [==============================] - 0s 19ms/step - loss: 0.6906 - categorical_accuracy: 0.5357\n",
      "Epoch 557/2000\n",
      "1/1 [==============================] - 0s 17ms/step - loss: 0.6906 - categorical_accuracy: 0.5357\n",
      "Epoch 558/2000\n",
      "1/1 [==============================] - 0s 16ms/step - loss: 0.6906 - categorical_accuracy: 0.5357\n",
      "Epoch 559/2000\n",
      "1/1 [==============================] - 0s 18ms/step - loss: 0.6906 - categorical_accuracy: 0.5357\n",
      "Epoch 560/2000\n",
      "1/1 [==============================] - 0s 16ms/step - loss: 0.6906 - categorical_accuracy: 0.5357\n",
      "Epoch 561/2000\n",
      "1/1 [==============================] - 0s 17ms/step - loss: 0.6906 - categorical_accuracy: 0.5357\n",
      "Epoch 562/2000\n",
      "1/1 [==============================] - 0s 17ms/step - loss: 0.6906 - categorical_accuracy: 0.5357\n",
      "Epoch 563/2000\n",
      "1/1 [==============================] - 0s 17ms/step - loss: 0.6906 - categorical_accuracy: 0.5357\n",
      "Epoch 564/2000\n",
      "1/1 [==============================] - 0s 18ms/step - loss: 0.6906 - categorical_accuracy: 0.5357\n",
      "Epoch 565/2000\n",
      "1/1 [==============================] - 0s 16ms/step - loss: 0.6906 - categorical_accuracy: 0.5357\n",
      "Epoch 566/2000\n",
      "1/1 [==============================] - 0s 18ms/step - loss: 0.6906 - categorical_accuracy: 0.5357\n",
      "Epoch 567/2000\n",
      "1/1 [==============================] - 0s 18ms/step - loss: 0.6906 - categorical_accuracy: 0.5357\n",
      "Epoch 568/2000\n",
      "1/1 [==============================] - 0s 18ms/step - loss: 0.6906 - categorical_accuracy: 0.5357\n",
      "Epoch 569/2000\n",
      "1/1 [==============================] - 0s 16ms/step - loss: 0.6906 - categorical_accuracy: 0.5357\n",
      "Epoch 570/2000\n",
      "1/1 [==============================] - 0s 18ms/step - loss: 0.6906 - categorical_accuracy: 0.5357\n",
      "Epoch 571/2000\n",
      "1/1 [==============================] - 0s 18ms/step - loss: 0.6906 - categorical_accuracy: 0.5357\n",
      "Epoch 572/2000\n",
      "1/1 [==============================] - 0s 17ms/step - loss: 0.6906 - categorical_accuracy: 0.5357\n",
      "Epoch 573/2000\n",
      "1/1 [==============================] - 0s 18ms/step - loss: 0.6906 - categorical_accuracy: 0.5357\n",
      "Epoch 574/2000\n",
      "1/1 [==============================] - 0s 17ms/step - loss: 0.6906 - categorical_accuracy: 0.5357\n",
      "Epoch 575/2000\n",
      "1/1 [==============================] - 0s 18ms/step - loss: 0.6906 - categorical_accuracy: 0.5357\n",
      "Epoch 576/2000\n",
      "1/1 [==============================] - 0s 17ms/step - loss: 0.6906 - categorical_accuracy: 0.5357\n",
      "Epoch 577/2000\n",
      "1/1 [==============================] - 0s 17ms/step - loss: 0.6906 - categorical_accuracy: 0.5357\n",
      "Epoch 578/2000\n"
     ]
    },
    {
     "name": "stdout",
     "output_type": "stream",
     "text": [
      "1/1 [==============================] - 0s 17ms/step - loss: 0.6906 - categorical_accuracy: 0.5357\n",
      "Epoch 579/2000\n",
      "1/1 [==============================] - 0s 17ms/step - loss: 0.6906 - categorical_accuracy: 0.5357\n",
      "Epoch 580/2000\n",
      "1/1 [==============================] - 0s 16ms/step - loss: 0.6906 - categorical_accuracy: 0.5357\n",
      "Epoch 581/2000\n",
      "1/1 [==============================] - 0s 17ms/step - loss: 0.6906 - categorical_accuracy: 0.5357\n",
      "Epoch 582/2000\n",
      "1/1 [==============================] - 0s 16ms/step - loss: 0.6906 - categorical_accuracy: 0.5357\n",
      "Epoch 583/2000\n",
      "1/1 [==============================] - 0s 17ms/step - loss: 0.6906 - categorical_accuracy: 0.5357\n",
      "Epoch 584/2000\n",
      "1/1 [==============================] - 0s 18ms/step - loss: 0.6906 - categorical_accuracy: 0.5357\n",
      "Epoch 585/2000\n",
      "1/1 [==============================] - 0s 17ms/step - loss: 0.6906 - categorical_accuracy: 0.5357\n",
      "Epoch 586/2000\n",
      "1/1 [==============================] - 0s 17ms/step - loss: 0.6906 - categorical_accuracy: 0.5357\n",
      "Epoch 587/2000\n",
      "1/1 [==============================] - 0s 17ms/step - loss: 0.6906 - categorical_accuracy: 0.5357\n",
      "Epoch 588/2000\n",
      "1/1 [==============================] - 0s 17ms/step - loss: 0.6906 - categorical_accuracy: 0.5357\n",
      "Epoch 589/2000\n",
      "1/1 [==============================] - 0s 16ms/step - loss: 0.6906 - categorical_accuracy: 0.5357\n",
      "Epoch 590/2000\n",
      "1/1 [==============================] - 0s 18ms/step - loss: 0.6906 - categorical_accuracy: 0.5357\n",
      "Epoch 591/2000\n",
      "1/1 [==============================] - 0s 17ms/step - loss: 0.6906 - categorical_accuracy: 0.5357\n",
      "Epoch 592/2000\n",
      "1/1 [==============================] - 0s 19ms/step - loss: 0.6906 - categorical_accuracy: 0.5357\n",
      "Epoch 593/2000\n",
      "1/1 [==============================] - 0s 16ms/step - loss: 0.6906 - categorical_accuracy: 0.5357\n",
      "Epoch 594/2000\n",
      "1/1 [==============================] - 0s 19ms/step - loss: 0.6906 - categorical_accuracy: 0.5357\n"
     ]
    },
    {
     "ename": "KeyboardInterrupt",
     "evalue": "",
     "output_type": "error",
     "traceback": [
      "\u001b[1;31m---------------------------------------------------------------------------\u001b[0m",
      "\u001b[1;31mKeyboardInterrupt\u001b[0m                         Traceback (most recent call last)",
      "\u001b[1;32m~\\AppData\\Local\\Temp/ipykernel_13468/647883075.py\u001b[0m in \u001b[0;36m<module>\u001b[1;34m\u001b[0m\n\u001b[1;32m----> 1\u001b[1;33m \u001b[0mmodel\u001b[0m\u001b[1;33m.\u001b[0m\u001b[0mfit\u001b[0m\u001b[1;33m(\u001b[0m\u001b[0mX_train\u001b[0m\u001b[1;33m,\u001b[0m \u001b[0my_train\u001b[0m\u001b[1;33m,\u001b[0m \u001b[0mepochs\u001b[0m\u001b[1;33m=\u001b[0m\u001b[1;36m2000\u001b[0m\u001b[1;33m,\u001b[0m \u001b[0mcallbacks\u001b[0m\u001b[1;33m=\u001b[0m\u001b[1;33m[\u001b[0m\u001b[0mtb_callback\u001b[0m\u001b[1;33m]\u001b[0m\u001b[1;33m)\u001b[0m\u001b[1;33m\u001b[0m\u001b[1;33m\u001b[0m\u001b[0m\n\u001b[0m",
      "\u001b[1;32mc:\\program files\\python39\\lib\\site-packages\\keras\\engine\\training.py\u001b[0m in \u001b[0;36mfit\u001b[1;34m(self, x, y, batch_size, epochs, verbose, callbacks, validation_split, validation_data, shuffle, class_weight, sample_weight, initial_epoch, steps_per_epoch, validation_steps, validation_batch_size, validation_freq, max_queue_size, workers, use_multiprocessing)\u001b[0m\n\u001b[0;32m   1228\u001b[0m           \u001b[0mepoch_logs\u001b[0m\u001b[1;33m.\u001b[0m\u001b[0mupdate\u001b[0m\u001b[1;33m(\u001b[0m\u001b[0mval_logs\u001b[0m\u001b[1;33m)\u001b[0m\u001b[1;33m\u001b[0m\u001b[1;33m\u001b[0m\u001b[0m\n\u001b[0;32m   1229\u001b[0m \u001b[1;33m\u001b[0m\u001b[0m\n\u001b[1;32m-> 1230\u001b[1;33m         \u001b[0mcallbacks\u001b[0m\u001b[1;33m.\u001b[0m\u001b[0mon_epoch_end\u001b[0m\u001b[1;33m(\u001b[0m\u001b[0mepoch\u001b[0m\u001b[1;33m,\u001b[0m \u001b[0mepoch_logs\u001b[0m\u001b[1;33m)\u001b[0m\u001b[1;33m\u001b[0m\u001b[1;33m\u001b[0m\u001b[0m\n\u001b[0m\u001b[0;32m   1231\u001b[0m         \u001b[0mtraining_logs\u001b[0m \u001b[1;33m=\u001b[0m \u001b[0mepoch_logs\u001b[0m\u001b[1;33m\u001b[0m\u001b[1;33m\u001b[0m\u001b[0m\n\u001b[0;32m   1232\u001b[0m         \u001b[1;32mif\u001b[0m \u001b[0mself\u001b[0m\u001b[1;33m.\u001b[0m\u001b[0mstop_training\u001b[0m\u001b[1;33m:\u001b[0m\u001b[1;33m\u001b[0m\u001b[1;33m\u001b[0m\u001b[0m\n",
      "\u001b[1;32mc:\\program files\\python39\\lib\\site-packages\\keras\\callbacks.py\u001b[0m in \u001b[0;36mon_epoch_end\u001b[1;34m(self, epoch, logs)\u001b[0m\n\u001b[0;32m    411\u001b[0m     \u001b[0mlogs\u001b[0m \u001b[1;33m=\u001b[0m \u001b[0mself\u001b[0m\u001b[1;33m.\u001b[0m\u001b[0m_process_logs\u001b[0m\u001b[1;33m(\u001b[0m\u001b[0mlogs\u001b[0m\u001b[1;33m)\u001b[0m\u001b[1;33m\u001b[0m\u001b[1;33m\u001b[0m\u001b[0m\n\u001b[0;32m    412\u001b[0m     \u001b[1;32mfor\u001b[0m \u001b[0mcallback\u001b[0m \u001b[1;32min\u001b[0m \u001b[0mself\u001b[0m\u001b[1;33m.\u001b[0m\u001b[0mcallbacks\u001b[0m\u001b[1;33m:\u001b[0m\u001b[1;33m\u001b[0m\u001b[1;33m\u001b[0m\u001b[0m\n\u001b[1;32m--> 413\u001b[1;33m       \u001b[0mcallback\u001b[0m\u001b[1;33m.\u001b[0m\u001b[0mon_epoch_end\u001b[0m\u001b[1;33m(\u001b[0m\u001b[0mepoch\u001b[0m\u001b[1;33m,\u001b[0m \u001b[0mlogs\u001b[0m\u001b[1;33m)\u001b[0m\u001b[1;33m\u001b[0m\u001b[1;33m\u001b[0m\u001b[0m\n\u001b[0m\u001b[0;32m    414\u001b[0m \u001b[1;33m\u001b[0m\u001b[0m\n\u001b[0;32m    415\u001b[0m   \u001b[1;32mdef\u001b[0m \u001b[0mon_train_batch_begin\u001b[0m\u001b[1;33m(\u001b[0m\u001b[0mself\u001b[0m\u001b[1;33m,\u001b[0m \u001b[0mbatch\u001b[0m\u001b[1;33m,\u001b[0m \u001b[0mlogs\u001b[0m\u001b[1;33m=\u001b[0m\u001b[1;32mNone\u001b[0m\u001b[1;33m)\u001b[0m\u001b[1;33m:\u001b[0m\u001b[1;33m\u001b[0m\u001b[1;33m\u001b[0m\u001b[0m\n",
      "\u001b[1;32mc:\\program files\\python39\\lib\\site-packages\\keras\\callbacks.py\u001b[0m in \u001b[0;36mon_epoch_end\u001b[1;34m(self, epoch, logs)\u001b[0m\n\u001b[0;32m   2442\u001b[0m   \u001b[1;32mdef\u001b[0m \u001b[0mon_epoch_end\u001b[0m\u001b[1;33m(\u001b[0m\u001b[0mself\u001b[0m\u001b[1;33m,\u001b[0m \u001b[0mepoch\u001b[0m\u001b[1;33m,\u001b[0m \u001b[0mlogs\u001b[0m\u001b[1;33m=\u001b[0m\u001b[1;32mNone\u001b[0m\u001b[1;33m)\u001b[0m\u001b[1;33m:\u001b[0m\u001b[1;33m\u001b[0m\u001b[1;33m\u001b[0m\u001b[0m\n\u001b[0;32m   2443\u001b[0m     \u001b[1;34m\"\"\"Runs metrics and histogram summaries at epoch end.\"\"\"\u001b[0m\u001b[1;33m\u001b[0m\u001b[1;33m\u001b[0m\u001b[0m\n\u001b[1;32m-> 2444\u001b[1;33m     \u001b[0mself\u001b[0m\u001b[1;33m.\u001b[0m\u001b[0m_log_epoch_metrics\u001b[0m\u001b[1;33m(\u001b[0m\u001b[0mepoch\u001b[0m\u001b[1;33m,\u001b[0m \u001b[0mlogs\u001b[0m\u001b[1;33m)\u001b[0m\u001b[1;33m\u001b[0m\u001b[1;33m\u001b[0m\u001b[0m\n\u001b[0m\u001b[0;32m   2445\u001b[0m \u001b[1;33m\u001b[0m\u001b[0m\n\u001b[0;32m   2446\u001b[0m     \u001b[1;32mif\u001b[0m \u001b[0mself\u001b[0m\u001b[1;33m.\u001b[0m\u001b[0mhistogram_freq\u001b[0m \u001b[1;32mand\u001b[0m \u001b[0mepoch\u001b[0m \u001b[1;33m%\u001b[0m \u001b[0mself\u001b[0m\u001b[1;33m.\u001b[0m\u001b[0mhistogram_freq\u001b[0m \u001b[1;33m==\u001b[0m \u001b[1;36m0\u001b[0m\u001b[1;33m:\u001b[0m\u001b[1;33m\u001b[0m\u001b[1;33m\u001b[0m\u001b[0m\n",
      "\u001b[1;32mc:\\program files\\python39\\lib\\site-packages\\keras\\callbacks.py\u001b[0m in \u001b[0;36m_log_epoch_metrics\u001b[1;34m(self, epoch, logs)\u001b[0m\n\u001b[0;32m   2498\u001b[0m         \u001b[1;32mwith\u001b[0m \u001b[0mself\u001b[0m\u001b[1;33m.\u001b[0m\u001b[0m_train_writer\u001b[0m\u001b[1;33m.\u001b[0m\u001b[0mas_default\u001b[0m\u001b[1;33m(\u001b[0m\u001b[1;33m)\u001b[0m\u001b[1;33m:\u001b[0m\u001b[1;33m\u001b[0m\u001b[1;33m\u001b[0m\u001b[0m\n\u001b[0;32m   2499\u001b[0m           \u001b[1;32mfor\u001b[0m \u001b[0mname\u001b[0m\u001b[1;33m,\u001b[0m \u001b[0mvalue\u001b[0m \u001b[1;32min\u001b[0m \u001b[0mtrain_logs\u001b[0m\u001b[1;33m.\u001b[0m\u001b[0mitems\u001b[0m\u001b[1;33m(\u001b[0m\u001b[1;33m)\u001b[0m\u001b[1;33m:\u001b[0m\u001b[1;33m\u001b[0m\u001b[1;33m\u001b[0m\u001b[0m\n\u001b[1;32m-> 2500\u001b[1;33m             \u001b[0mtf\u001b[0m\u001b[1;33m.\u001b[0m\u001b[0msummary\u001b[0m\u001b[1;33m.\u001b[0m\u001b[0mscalar\u001b[0m\u001b[1;33m(\u001b[0m\u001b[1;34m'epoch_'\u001b[0m \u001b[1;33m+\u001b[0m \u001b[0mname\u001b[0m\u001b[1;33m,\u001b[0m \u001b[0mvalue\u001b[0m\u001b[1;33m,\u001b[0m \u001b[0mstep\u001b[0m\u001b[1;33m=\u001b[0m\u001b[0mepoch\u001b[0m\u001b[1;33m)\u001b[0m\u001b[1;33m\u001b[0m\u001b[1;33m\u001b[0m\u001b[0m\n\u001b[0m\u001b[0;32m   2501\u001b[0m       \u001b[1;32mif\u001b[0m \u001b[0mval_logs\u001b[0m\u001b[1;33m:\u001b[0m\u001b[1;33m\u001b[0m\u001b[1;33m\u001b[0m\u001b[0m\n\u001b[0;32m   2502\u001b[0m         \u001b[1;32mwith\u001b[0m \u001b[0mself\u001b[0m\u001b[1;33m.\u001b[0m\u001b[0m_val_writer\u001b[0m\u001b[1;33m.\u001b[0m\u001b[0mas_default\u001b[0m\u001b[1;33m(\u001b[0m\u001b[1;33m)\u001b[0m\u001b[1;33m:\u001b[0m\u001b[1;33m\u001b[0m\u001b[1;33m\u001b[0m\u001b[0m\n",
      "\u001b[1;32mc:\\program files\\python39\\lib\\site-packages\\tensorflow\\python\\ops\\summary_ops_v2.py\u001b[0m in \u001b[0;36m__exit__\u001b[1;34m(self, *exc)\u001b[0m\n\u001b[0;32m     95\u001b[0m     \u001b[1;31m# Flushes the summary writer in eager mode or in graph functions, but\u001b[0m\u001b[1;33m\u001b[0m\u001b[1;33m\u001b[0m\u001b[1;33m\u001b[0m\u001b[0m\n\u001b[0;32m     96\u001b[0m     \u001b[1;31m# not in legacy graph mode (you're on your own there).\u001b[0m\u001b[1;33m\u001b[0m\u001b[1;33m\u001b[0m\u001b[1;33m\u001b[0m\u001b[0m\n\u001b[1;32m---> 97\u001b[1;33m     \u001b[0m_summary_state\u001b[0m\u001b[1;33m.\u001b[0m\u001b[0mwriter\u001b[0m\u001b[1;33m.\u001b[0m\u001b[0mflush\u001b[0m\u001b[1;33m(\u001b[0m\u001b[1;33m)\u001b[0m\u001b[1;33m\u001b[0m\u001b[1;33m\u001b[0m\u001b[0m\n\u001b[0m\u001b[0;32m     98\u001b[0m     \u001b[0m_summary_state\u001b[0m\u001b[1;33m.\u001b[0m\u001b[0mwriter\u001b[0m \u001b[1;33m=\u001b[0m \u001b[0mself\u001b[0m\u001b[1;33m.\u001b[0m\u001b[0m_old_writer\u001b[0m\u001b[1;33m\u001b[0m\u001b[1;33m\u001b[0m\u001b[0m\n\u001b[0;32m     99\u001b[0m     \u001b[1;32mif\u001b[0m \u001b[0mself\u001b[0m\u001b[1;33m.\u001b[0m\u001b[0m_step\u001b[0m \u001b[1;32mis\u001b[0m \u001b[1;32mnot\u001b[0m \u001b[1;32mNone\u001b[0m\u001b[1;33m:\u001b[0m\u001b[1;33m\u001b[0m\u001b[1;33m\u001b[0m\u001b[0m\n",
      "\u001b[1;32mc:\\program files\\python39\\lib\\site-packages\\tensorflow\\python\\ops\\summary_ops_v2.py\u001b[0m in \u001b[0;36mflush\u001b[1;34m(self)\u001b[0m\n\u001b[0;32m    347\u001b[0m       \u001b[1;32mreturn\u001b[0m\u001b[1;33m\u001b[0m\u001b[1;33m\u001b[0m\u001b[0m\n\u001b[0;32m    348\u001b[0m     \u001b[1;32mwith\u001b[0m \u001b[0mops\u001b[0m\u001b[1;33m.\u001b[0m\u001b[0mdevice\u001b[0m\u001b[1;33m(\u001b[0m\u001b[1;34m\"cpu:0\"\u001b[0m\u001b[1;33m)\u001b[0m\u001b[1;33m:\u001b[0m\u001b[1;33m\u001b[0m\u001b[1;33m\u001b[0m\u001b[0m\n\u001b[1;32m--> 349\u001b[1;33m       \u001b[1;32mreturn\u001b[0m \u001b[0mgen_summary_ops\u001b[0m\u001b[1;33m.\u001b[0m\u001b[0mflush_summary_writer\u001b[0m\u001b[1;33m(\u001b[0m\u001b[0mself\u001b[0m\u001b[1;33m.\u001b[0m\u001b[0m_resource\u001b[0m\u001b[1;33m)\u001b[0m\u001b[1;33m\u001b[0m\u001b[1;33m\u001b[0m\u001b[0m\n\u001b[0m\u001b[0;32m    350\u001b[0m \u001b[1;33m\u001b[0m\u001b[0m\n\u001b[0;32m    351\u001b[0m   \u001b[1;32mdef\u001b[0m \u001b[0mclose\u001b[0m\u001b[1;33m(\u001b[0m\u001b[0mself\u001b[0m\u001b[1;33m)\u001b[0m\u001b[1;33m:\u001b[0m\u001b[1;33m\u001b[0m\u001b[1;33m\u001b[0m\u001b[0m\n",
      "\u001b[1;32mc:\\program files\\python39\\lib\\site-packages\\tensorflow\\python\\ops\\gen_summary_ops.py\u001b[0m in \u001b[0;36mflush_summary_writer\u001b[1;34m(writer, name)\u001b[0m\n\u001b[0;32m    191\u001b[0m   \u001b[1;32mif\u001b[0m \u001b[0mtld\u001b[0m\u001b[1;33m.\u001b[0m\u001b[0mis_eager\u001b[0m\u001b[1;33m:\u001b[0m\u001b[1;33m\u001b[0m\u001b[1;33m\u001b[0m\u001b[0m\n\u001b[0;32m    192\u001b[0m     \u001b[1;32mtry\u001b[0m\u001b[1;33m:\u001b[0m\u001b[1;33m\u001b[0m\u001b[1;33m\u001b[0m\u001b[0m\n\u001b[1;32m--> 193\u001b[1;33m       _result = pywrap_tfe.TFE_Py_FastPathExecute(\n\u001b[0m\u001b[0;32m    194\u001b[0m         _ctx, \"FlushSummaryWriter\", name, writer)\n\u001b[0;32m    195\u001b[0m       \u001b[1;32mreturn\u001b[0m \u001b[0m_result\u001b[0m\u001b[1;33m\u001b[0m\u001b[1;33m\u001b[0m\u001b[0m\n",
      "\u001b[1;31mKeyboardInterrupt\u001b[0m: "
     ]
    }
   ],
   "source": [
    "model.fit(X_train, y_train, epochs=2000, callbacks=[tb_callback])"
   ]
  },
  {
   "cell_type": "code",
   "execution_count": 79,
   "id": "49eea443",
   "metadata": {},
   "outputs": [
    {
     "name": "stdout",
     "output_type": "stream",
     "text": [
      "Model: \"sequential\"\n",
      "_________________________________________________________________\n",
      "Layer (type)                 Output Shape              Param #   \n",
      "=================================================================\n",
      "lstm (LSTM)                  (None, 15, 64)            48896     \n",
      "_________________________________________________________________\n",
      "lstm_1 (LSTM)                (None, 15, 128)           98816     \n",
      "_________________________________________________________________\n",
      "lstm_2 (LSTM)                (None, 64)                49408     \n",
      "_________________________________________________________________\n",
      "dense (Dense)                (None, 64)                4160      \n",
      "_________________________________________________________________\n",
      "dense_1 (Dense)              (None, 32)                2080      \n",
      "_________________________________________________________________\n",
      "dense_2 (Dense)              (None, 2)                 66        \n",
      "=================================================================\n",
      "Total params: 203,426\n",
      "Trainable params: 203,426\n",
      "Non-trainable params: 0\n",
      "_________________________________________________________________\n"
     ]
    }
   ],
   "source": [
    "model.summary()"
   ]
  },
  {
   "cell_type": "markdown",
   "id": "c9b21b76",
   "metadata": {},
   "source": [
    "# 8. Make Predictions"
   ]
  },
  {
   "cell_type": "code",
   "execution_count": 80,
   "id": "0ee9a9b2",
   "metadata": {},
   "outputs": [],
   "source": [
    "res = model.predict(X_test)"
   ]
  },
  {
   "cell_type": "code",
   "execution_count": 82,
   "id": "f6809028",
   "metadata": {},
   "outputs": [
    {
     "data": {
      "text/plain": [
       "'off'"
      ]
     },
     "execution_count": 82,
     "metadata": {},
     "output_type": "execute_result"
    }
   ],
   "source": [
    "actions[np.argmax(res[1])]"
   ]
  },
  {
   "cell_type": "code",
   "execution_count": 83,
   "id": "12cc288f",
   "metadata": {},
   "outputs": [
    {
     "data": {
      "text/plain": [
       "'on'"
      ]
     },
     "execution_count": 83,
     "metadata": {},
     "output_type": "execute_result"
    }
   ],
   "source": [
    "actions[np.argmax(y_test[1])]"
   ]
  },
  {
   "cell_type": "markdown",
   "id": "74cb344a",
   "metadata": {},
   "source": [
    "# 9. Save Weights"
   ]
  },
  {
   "cell_type": "code",
   "execution_count": 84,
   "id": "060a52cb",
   "metadata": {},
   "outputs": [
    {
     "name": "stdout",
     "output_type": "stream",
     "text": [
      "INFO:tensorflow:Assets written to: action.h7\\assets\n"
     ]
    }
   ],
   "source": [
    "model.save('action.h7')"
   ]
  },
  {
   "cell_type": "code",
   "execution_count": 75,
   "id": "75dd8ae6",
   "metadata": {},
   "outputs": [],
   "source": [
    "\n",
    "del model"
   ]
  },
  {
   "cell_type": "code",
   "execution_count": 85,
   "id": "8e56a223",
   "metadata": {},
   "outputs": [
    {
     "data": {
      "text/plain": [
       "<tensorflow.python.training.tracking.util.CheckpointLoadStatus at 0x1ad9740e430>"
      ]
     },
     "execution_count": 85,
     "metadata": {},
     "output_type": "execute_result"
    }
   ],
   "source": [
    "model.load_weights('action.h7')"
   ]
  },
  {
   "cell_type": "markdown",
   "id": "c8f84997",
   "metadata": {},
   "source": [
    "# 10. Evaluation using Confusion Matrix and Accuracy"
   ]
  },
  {
   "cell_type": "code",
   "execution_count": 86,
   "id": "5be2a93f",
   "metadata": {},
   "outputs": [],
   "source": [
    "from sklearn.metrics import multilabel_confusion_matrix, accuracy_score"
   ]
  },
  {
   "cell_type": "code",
   "execution_count": 87,
   "id": "93b9e057",
   "metadata": {},
   "outputs": [],
   "source": [
    "# yhat = model.predict(X_test)\n",
    "yhat = model.predict(X_test)"
   ]
  },
  {
   "cell_type": "code",
   "execution_count": 88,
   "id": "2a2b86ce",
   "metadata": {},
   "outputs": [],
   "source": [
    "ytrue = np.argmax(y_test, axis=1).tolist()\n",
    "yhat = np.argmax(yhat, axis=1).tolist()\n",
    "\n"
   ]
  },
  {
   "cell_type": "code",
   "execution_count": 89,
   "id": "98a5439f",
   "metadata": {},
   "outputs": [
    {
     "data": {
      "text/plain": [
       "[1, 1]"
      ]
     },
     "execution_count": 89,
     "metadata": {},
     "output_type": "execute_result"
    }
   ],
   "source": [
    "yhat\n"
   ]
  },
  {
   "cell_type": "code",
   "execution_count": 90,
   "id": "4178a6e9",
   "metadata": {},
   "outputs": [
    {
     "data": {
      "text/plain": [
       "[0, 0]"
      ]
     },
     "execution_count": 90,
     "metadata": {},
     "output_type": "execute_result"
    }
   ],
   "source": [
    "ytrue\n"
   ]
  },
  {
   "cell_type": "code",
   "execution_count": 91,
   "id": "9f30d598",
   "metadata": {},
   "outputs": [
    {
     "data": {
      "text/plain": [
       "array([[[0., 0.],\n",
       "        [2., 0.]],\n",
       "\n",
       "       [[0., 2.],\n",
       "        [0., 0.]]])"
      ]
     },
     "execution_count": 91,
     "metadata": {},
     "output_type": "execute_result"
    }
   ],
   "source": [
    "multilabel_confusion_matrix(ytrue, yhat)"
   ]
  },
  {
   "cell_type": "code",
   "execution_count": 94,
   "id": "89053032",
   "metadata": {},
   "outputs": [
    {
     "data": {
      "text/plain": [
       "0.0"
      ]
     },
     "execution_count": 94,
     "metadata": {},
     "output_type": "execute_result"
    }
   ],
   "source": [
    "accuracy_score(ytrue, yhat)"
   ]
  },
  {
   "cell_type": "code",
   "execution_count": 78,
   "id": "c1ffb5ec",
   "metadata": {},
   "outputs": [
    {
     "ename": "AxisError",
     "evalue": "axis 1 is out of bounds for array of dimension 1",
     "output_type": "error",
     "traceback": [
      "\u001b[1;31m---------------------------------------------------------------------------\u001b[0m",
      "\u001b[1;31mAxisError\u001b[0m                                 Traceback (most recent call last)",
      "\u001b[1;32m~\\AppData\\Local\\Temp/ipykernel_25444/3461626337.py\u001b[0m in \u001b[0;36m<module>\u001b[1;34m\u001b[0m\n\u001b[0;32m      1\u001b[0m \u001b[0mytrue\u001b[0m \u001b[1;33m=\u001b[0m \u001b[0mnp\u001b[0m\u001b[1;33m.\u001b[0m\u001b[0margmax\u001b[0m\u001b[1;33m(\u001b[0m\u001b[0my_train\u001b[0m\u001b[1;33m,\u001b[0m \u001b[0maxis\u001b[0m\u001b[1;33m=\u001b[0m\u001b[1;36m1\u001b[0m\u001b[1;33m)\u001b[0m\u001b[1;33m.\u001b[0m\u001b[0mtolist\u001b[0m\u001b[1;33m(\u001b[0m\u001b[1;33m)\u001b[0m\u001b[1;33m\u001b[0m\u001b[1;33m\u001b[0m\u001b[0m\n\u001b[1;32m----> 2\u001b[1;33m \u001b[0myhat\u001b[0m \u001b[1;33m=\u001b[0m \u001b[0mnp\u001b[0m\u001b[1;33m.\u001b[0m\u001b[0margmax\u001b[0m\u001b[1;33m(\u001b[0m\u001b[0myhat\u001b[0m\u001b[1;33m,\u001b[0m \u001b[0maxis\u001b[0m\u001b[1;33m=\u001b[0m\u001b[1;36m1\u001b[0m\u001b[1;33m)\u001b[0m\u001b[1;33m.\u001b[0m\u001b[0mtolist\u001b[0m\u001b[1;33m(\u001b[0m\u001b[1;33m)\u001b[0m\u001b[1;33m\u001b[0m\u001b[1;33m\u001b[0m\u001b[0m\n\u001b[0m",
      "\u001b[1;32m<__array_function__ internals>\u001b[0m in \u001b[0;36margmax\u001b[1;34m(*args, **kwargs)\u001b[0m\n",
      "\u001b[1;32mc:\\program files\\python39\\lib\\site-packages\\numpy\\core\\fromnumeric.py\u001b[0m in \u001b[0;36margmax\u001b[1;34m(a, axis, out)\u001b[0m\n\u001b[0;32m   1186\u001b[0m \u001b[1;33m\u001b[0m\u001b[0m\n\u001b[0;32m   1187\u001b[0m     \"\"\"\n\u001b[1;32m-> 1188\u001b[1;33m     \u001b[1;32mreturn\u001b[0m \u001b[0m_wrapfunc\u001b[0m\u001b[1;33m(\u001b[0m\u001b[0ma\u001b[0m\u001b[1;33m,\u001b[0m \u001b[1;34m'argmax'\u001b[0m\u001b[1;33m,\u001b[0m \u001b[0maxis\u001b[0m\u001b[1;33m=\u001b[0m\u001b[0maxis\u001b[0m\u001b[1;33m,\u001b[0m \u001b[0mout\u001b[0m\u001b[1;33m=\u001b[0m\u001b[0mout\u001b[0m\u001b[1;33m)\u001b[0m\u001b[1;33m\u001b[0m\u001b[1;33m\u001b[0m\u001b[0m\n\u001b[0m\u001b[0;32m   1189\u001b[0m \u001b[1;33m\u001b[0m\u001b[0m\n\u001b[0;32m   1190\u001b[0m \u001b[1;33m\u001b[0m\u001b[0m\n",
      "\u001b[1;32mc:\\program files\\python39\\lib\\site-packages\\numpy\\core\\fromnumeric.py\u001b[0m in \u001b[0;36m_wrapfunc\u001b[1;34m(obj, method, *args, **kwds)\u001b[0m\n\u001b[0;32m     53\u001b[0m     \u001b[0mbound\u001b[0m \u001b[1;33m=\u001b[0m \u001b[0mgetattr\u001b[0m\u001b[1;33m(\u001b[0m\u001b[0mobj\u001b[0m\u001b[1;33m,\u001b[0m \u001b[0mmethod\u001b[0m\u001b[1;33m,\u001b[0m \u001b[1;32mNone\u001b[0m\u001b[1;33m)\u001b[0m\u001b[1;33m\u001b[0m\u001b[1;33m\u001b[0m\u001b[0m\n\u001b[0;32m     54\u001b[0m     \u001b[1;32mif\u001b[0m \u001b[0mbound\u001b[0m \u001b[1;32mis\u001b[0m \u001b[1;32mNone\u001b[0m\u001b[1;33m:\u001b[0m\u001b[1;33m\u001b[0m\u001b[1;33m\u001b[0m\u001b[0m\n\u001b[1;32m---> 55\u001b[1;33m         \u001b[1;32mreturn\u001b[0m \u001b[0m_wrapit\u001b[0m\u001b[1;33m(\u001b[0m\u001b[0mobj\u001b[0m\u001b[1;33m,\u001b[0m \u001b[0mmethod\u001b[0m\u001b[1;33m,\u001b[0m \u001b[1;33m*\u001b[0m\u001b[0margs\u001b[0m\u001b[1;33m,\u001b[0m \u001b[1;33m**\u001b[0m\u001b[0mkwds\u001b[0m\u001b[1;33m)\u001b[0m\u001b[1;33m\u001b[0m\u001b[1;33m\u001b[0m\u001b[0m\n\u001b[0m\u001b[0;32m     56\u001b[0m \u001b[1;33m\u001b[0m\u001b[0m\n\u001b[0;32m     57\u001b[0m     \u001b[1;32mtry\u001b[0m\u001b[1;33m:\u001b[0m\u001b[1;33m\u001b[0m\u001b[1;33m\u001b[0m\u001b[0m\n",
      "\u001b[1;32mc:\\program files\\python39\\lib\\site-packages\\numpy\\core\\fromnumeric.py\u001b[0m in \u001b[0;36m_wrapit\u001b[1;34m(obj, method, *args, **kwds)\u001b[0m\n\u001b[0;32m     42\u001b[0m     \u001b[1;32mexcept\u001b[0m \u001b[0mAttributeError\u001b[0m\u001b[1;33m:\u001b[0m\u001b[1;33m\u001b[0m\u001b[1;33m\u001b[0m\u001b[0m\n\u001b[0;32m     43\u001b[0m         \u001b[0mwrap\u001b[0m \u001b[1;33m=\u001b[0m \u001b[1;32mNone\u001b[0m\u001b[1;33m\u001b[0m\u001b[1;33m\u001b[0m\u001b[0m\n\u001b[1;32m---> 44\u001b[1;33m     \u001b[0mresult\u001b[0m \u001b[1;33m=\u001b[0m \u001b[0mgetattr\u001b[0m\u001b[1;33m(\u001b[0m\u001b[0masarray\u001b[0m\u001b[1;33m(\u001b[0m\u001b[0mobj\u001b[0m\u001b[1;33m)\u001b[0m\u001b[1;33m,\u001b[0m \u001b[0mmethod\u001b[0m\u001b[1;33m)\u001b[0m\u001b[1;33m(\u001b[0m\u001b[1;33m*\u001b[0m\u001b[0margs\u001b[0m\u001b[1;33m,\u001b[0m \u001b[1;33m**\u001b[0m\u001b[0mkwds\u001b[0m\u001b[1;33m)\u001b[0m\u001b[1;33m\u001b[0m\u001b[1;33m\u001b[0m\u001b[0m\n\u001b[0m\u001b[0;32m     45\u001b[0m     \u001b[1;32mif\u001b[0m \u001b[0mwrap\u001b[0m\u001b[1;33m:\u001b[0m\u001b[1;33m\u001b[0m\u001b[1;33m\u001b[0m\u001b[0m\n\u001b[0;32m     46\u001b[0m         \u001b[1;32mif\u001b[0m \u001b[1;32mnot\u001b[0m \u001b[0misinstance\u001b[0m\u001b[1;33m(\u001b[0m\u001b[0mresult\u001b[0m\u001b[1;33m,\u001b[0m \u001b[0mmu\u001b[0m\u001b[1;33m.\u001b[0m\u001b[0mndarray\u001b[0m\u001b[1;33m)\u001b[0m\u001b[1;33m:\u001b[0m\u001b[1;33m\u001b[0m\u001b[1;33m\u001b[0m\u001b[0m\n",
      "\u001b[1;31mAxisError\u001b[0m: axis 1 is out of bounds for array of dimension 1"
     ]
    }
   ],
   "source": [
    "ytrue = np.argmax(y_train, axis=1).tolist()\n",
    "yhat = np.argmax(yhat, axis=1).tolist()"
   ]
  },
  {
   "cell_type": "code",
   "execution_count": 66,
   "id": "dba2cf3b",
   "metadata": {},
   "outputs": [
    {
     "data": {
      "text/plain": [
       "array([[[53,  6],\n",
       "        [ 4, 22]],\n",
       "\n",
       "       [[55,  0],\n",
       "        [ 1, 29]],\n",
       "\n",
       "       [[52,  4],\n",
       "        [ 5, 24]]], dtype=int64)"
      ]
     },
     "execution_count": 66,
     "metadata": {},
     "output_type": "execute_result"
    }
   ],
   "source": [
    "multilabel_confusion_matrix(ytrue, yhat)"
   ]
  },
  {
   "cell_type": "code",
   "execution_count": 95,
   "id": "612dd237",
   "metadata": {},
   "outputs": [
    {
     "data": {
      "text/plain": [
       "0.0"
      ]
     },
     "execution_count": 95,
     "metadata": {},
     "output_type": "execute_result"
    }
   ],
   "source": [
    "accuracy_score(ytrue, yhat)"
   ]
  },
  {
   "cell_type": "markdown",
   "id": "33f6899f",
   "metadata": {},
   "source": [
    "# 11. Test in Real Time"
   ]
  },
  {
   "cell_type": "code",
   "execution_count": 96,
   "id": "951b6a44",
   "metadata": {},
   "outputs": [],
   "source": [
    "import matplotlib.pyplot as plt"
   ]
  },
  {
   "cell_type": "code",
   "execution_count": 97,
   "id": "cb609975",
   "metadata": {},
   "outputs": [],
   "source": [
    "colors = [(245,117,16), (117,245,16), (16,117,245)]\n",
    "def prob_viz(res, actions, input_frame, colors):\n",
    "    output_frame = input_frame.copy()\n",
    "    for num, prob in enumerate(res):\n",
    "        cv2.rectangle(output_frame, (0,60+num*40), (int(prob*100), 90+num*40), colors[num], -1)\n",
    "        cv2.putText(output_frame, actions[num], (0, 85+num*40), cv2.FONT_HERSHEY_SIMPLEX, 1, (255,255,255), 2, cv2.LINE_AA)\n",
    "        \n",
    "    return output_frame"
   ]
  },
  {
   "cell_type": "code",
   "execution_count": 98,
   "id": "5656575b",
   "metadata": {},
   "outputs": [
    {
     "ename": "TypeError",
     "evalue": "only size-1 arrays can be converted to Python scalars",
     "output_type": "error",
     "traceback": [
      "\u001b[1;31m---------------------------------------------------------------------------\u001b[0m",
      "\u001b[1;31mTypeError\u001b[0m                                 Traceback (most recent call last)",
      "\u001b[1;32m~\\AppData\\Local\\Temp/ipykernel_13468/104962489.py\u001b[0m in \u001b[0;36m<module>\u001b[1;34m\u001b[0m\n\u001b[0;32m      1\u001b[0m \u001b[0mplt\u001b[0m\u001b[1;33m.\u001b[0m\u001b[0mfigure\u001b[0m\u001b[1;33m(\u001b[0m\u001b[0mfigsize\u001b[0m\u001b[1;33m=\u001b[0m\u001b[1;33m(\u001b[0m\u001b[1;36m18\u001b[0m\u001b[1;33m,\u001b[0m\u001b[1;36m18\u001b[0m\u001b[1;33m)\u001b[0m\u001b[1;33m)\u001b[0m\u001b[1;33m\u001b[0m\u001b[1;33m\u001b[0m\u001b[0m\n\u001b[1;32m----> 2\u001b[1;33m \u001b[0mplt\u001b[0m\u001b[1;33m.\u001b[0m\u001b[0mimshow\u001b[0m\u001b[1;33m(\u001b[0m\u001b[0mprob_viz\u001b[0m\u001b[1;33m(\u001b[0m\u001b[0mres\u001b[0m\u001b[1;33m,\u001b[0m \u001b[0mactions\u001b[0m\u001b[1;33m,\u001b[0m \u001b[0mimage\u001b[0m\u001b[1;33m,\u001b[0m \u001b[0mcolors\u001b[0m\u001b[1;33m)\u001b[0m\u001b[1;33m)\u001b[0m\u001b[1;33m\u001b[0m\u001b[1;33m\u001b[0m\u001b[0m\n\u001b[0m",
      "\u001b[1;32m~\\AppData\\Local\\Temp/ipykernel_13468/2568779431.py\u001b[0m in \u001b[0;36mprob_viz\u001b[1;34m(res, actions, input_frame, colors)\u001b[0m\n\u001b[0;32m      3\u001b[0m     \u001b[0moutput_frame\u001b[0m \u001b[1;33m=\u001b[0m \u001b[0minput_frame\u001b[0m\u001b[1;33m.\u001b[0m\u001b[0mcopy\u001b[0m\u001b[1;33m(\u001b[0m\u001b[1;33m)\u001b[0m\u001b[1;33m\u001b[0m\u001b[1;33m\u001b[0m\u001b[0m\n\u001b[0;32m      4\u001b[0m     \u001b[1;32mfor\u001b[0m \u001b[0mnum\u001b[0m\u001b[1;33m,\u001b[0m \u001b[0mprob\u001b[0m \u001b[1;32min\u001b[0m \u001b[0menumerate\u001b[0m\u001b[1;33m(\u001b[0m\u001b[0mres\u001b[0m\u001b[1;33m)\u001b[0m\u001b[1;33m:\u001b[0m\u001b[1;33m\u001b[0m\u001b[1;33m\u001b[0m\u001b[0m\n\u001b[1;32m----> 5\u001b[1;33m         \u001b[0mcv2\u001b[0m\u001b[1;33m.\u001b[0m\u001b[0mrectangle\u001b[0m\u001b[1;33m(\u001b[0m\u001b[0moutput_frame\u001b[0m\u001b[1;33m,\u001b[0m \u001b[1;33m(\u001b[0m\u001b[1;36m0\u001b[0m\u001b[1;33m,\u001b[0m\u001b[1;36m60\u001b[0m\u001b[1;33m+\u001b[0m\u001b[0mnum\u001b[0m\u001b[1;33m*\u001b[0m\u001b[1;36m40\u001b[0m\u001b[1;33m)\u001b[0m\u001b[1;33m,\u001b[0m \u001b[1;33m(\u001b[0m\u001b[0mint\u001b[0m\u001b[1;33m(\u001b[0m\u001b[0mprob\u001b[0m\u001b[1;33m*\u001b[0m\u001b[1;36m100\u001b[0m\u001b[1;33m)\u001b[0m\u001b[1;33m,\u001b[0m \u001b[1;36m90\u001b[0m\u001b[1;33m+\u001b[0m\u001b[0mnum\u001b[0m\u001b[1;33m*\u001b[0m\u001b[1;36m40\u001b[0m\u001b[1;33m)\u001b[0m\u001b[1;33m,\u001b[0m \u001b[0mcolors\u001b[0m\u001b[1;33m[\u001b[0m\u001b[0mnum\u001b[0m\u001b[1;33m]\u001b[0m\u001b[1;33m,\u001b[0m \u001b[1;33m-\u001b[0m\u001b[1;36m1\u001b[0m\u001b[1;33m)\u001b[0m\u001b[1;33m\u001b[0m\u001b[1;33m\u001b[0m\u001b[0m\n\u001b[0m\u001b[0;32m      6\u001b[0m         \u001b[0mcv2\u001b[0m\u001b[1;33m.\u001b[0m\u001b[0mputText\u001b[0m\u001b[1;33m(\u001b[0m\u001b[0moutput_frame\u001b[0m\u001b[1;33m,\u001b[0m \u001b[0mactions\u001b[0m\u001b[1;33m[\u001b[0m\u001b[0mnum\u001b[0m\u001b[1;33m]\u001b[0m\u001b[1;33m,\u001b[0m \u001b[1;33m(\u001b[0m\u001b[1;36m0\u001b[0m\u001b[1;33m,\u001b[0m \u001b[1;36m85\u001b[0m\u001b[1;33m+\u001b[0m\u001b[0mnum\u001b[0m\u001b[1;33m*\u001b[0m\u001b[1;36m40\u001b[0m\u001b[1;33m)\u001b[0m\u001b[1;33m,\u001b[0m \u001b[0mcv2\u001b[0m\u001b[1;33m.\u001b[0m\u001b[0mFONT_HERSHEY_SIMPLEX\u001b[0m\u001b[1;33m,\u001b[0m \u001b[1;36m1\u001b[0m\u001b[1;33m,\u001b[0m \u001b[1;33m(\u001b[0m\u001b[1;36m255\u001b[0m\u001b[1;33m,\u001b[0m\u001b[1;36m255\u001b[0m\u001b[1;33m,\u001b[0m\u001b[1;36m255\u001b[0m\u001b[1;33m)\u001b[0m\u001b[1;33m,\u001b[0m \u001b[1;36m2\u001b[0m\u001b[1;33m,\u001b[0m \u001b[0mcv2\u001b[0m\u001b[1;33m.\u001b[0m\u001b[0mLINE_AA\u001b[0m\u001b[1;33m)\u001b[0m\u001b[1;33m\u001b[0m\u001b[1;33m\u001b[0m\u001b[0m\n\u001b[0;32m      7\u001b[0m \u001b[1;33m\u001b[0m\u001b[0m\n",
      "\u001b[1;31mTypeError\u001b[0m: only size-1 arrays can be converted to Python scalars"
     ]
    },
    {
     "data": {
      "text/plain": [
       "<Figure size 1296x1296 with 0 Axes>"
      ]
     },
     "metadata": {},
     "output_type": "display_data"
    }
   ],
   "source": [
    "plt.figure(figsize=(18,18))\n",
    "plt.imshow(prob_viz(res, actions, image, colors))"
   ]
  },
  {
   "cell_type": "code",
   "execution_count": 108,
   "id": "ce14b5a0",
   "metadata": {},
   "outputs": [],
   "source": [
    "import pyttsx3\n",
    "engine = pyttsx3.init('sapi5')\n",
    "voices = engine.getProperty('voices')\n",
    "# print(voices[0].id)\n",
    "engine.setProperty('voice', voices[1].id)\n",
    "def speak(audio):\n",
    "    engine.say(audio)\n",
    "    engine.runAndWait()"
   ]
  },
  {
   "cell_type": "code",
   "execution_count": 112,
   "id": "e05742ae",
   "metadata": {},
   "outputs": [
    {
     "name": "stdout",
     "output_type": "stream",
     "text": [
      "<class 'mediapipe.python.solution_base.SolutionOutputs'>\n",
      "<class 'mediapipe.python.solution_base.SolutionOutputs'>\n",
      "<class 'mediapipe.python.solution_base.SolutionOutputs'>\n",
      "<class 'mediapipe.python.solution_base.SolutionOutputs'>\n",
      "<class 'mediapipe.python.solution_base.SolutionOutputs'>\n",
      "<class 'mediapipe.python.solution_base.SolutionOutputs'>\n",
      "<class 'mediapipe.python.solution_base.SolutionOutputs'>\n",
      "<class 'mediapipe.python.solution_base.SolutionOutputs'>\n",
      "<class 'mediapipe.python.solution_base.SolutionOutputs'>\n",
      "<class 'mediapipe.python.solution_base.SolutionOutputs'>\n",
      "<class 'mediapipe.python.solution_base.SolutionOutputs'>\n",
      "<class 'mediapipe.python.solution_base.SolutionOutputs'>\n",
      "<class 'mediapipe.python.solution_base.SolutionOutputs'>\n",
      "<class 'mediapipe.python.solution_base.SolutionOutputs'>\n",
      "<class 'mediapipe.python.solution_base.SolutionOutputs'>\n",
      "<class 'mediapipe.python.solution_base.SolutionOutputs'>\n",
      "<class 'mediapipe.python.solution_base.SolutionOutputs'>\n",
      "<class 'mediapipe.python.solution_base.SolutionOutputs'>\n",
      "<class 'mediapipe.python.solution_base.SolutionOutputs'>\n",
      "<class 'mediapipe.python.solution_base.SolutionOutputs'>\n",
      "<class 'mediapipe.python.solution_base.SolutionOutputs'>\n",
      "<class 'mediapipe.python.solution_base.SolutionOutputs'>\n",
      "<class 'mediapipe.python.solution_base.SolutionOutputs'>\n",
      "<class 'mediapipe.python.solution_base.SolutionOutputs'>\n",
      "<class 'mediapipe.python.solution_base.SolutionOutputs'>\n",
      "<class 'mediapipe.python.solution_base.SolutionOutputs'>\n",
      "<class 'mediapipe.python.solution_base.SolutionOutputs'>\n",
      "<class 'mediapipe.python.solution_base.SolutionOutputs'>\n",
      "<class 'mediapipe.python.solution_base.SolutionOutputs'>\n",
      "<class 'mediapipe.python.solution_base.SolutionOutputs'>\n",
      "off\n",
      "<class 'mediapipe.python.solution_base.SolutionOutputs'>\n",
      "off\n",
      "<class 'mediapipe.python.solution_base.SolutionOutputs'>\n",
      "off\n",
      "<class 'mediapipe.python.solution_base.SolutionOutputs'>\n",
      "off\n",
      "<class 'mediapipe.python.solution_base.SolutionOutputs'>\n",
      "off\n",
      "<class 'mediapipe.python.solution_base.SolutionOutputs'>\n",
      "off\n",
      "<class 'mediapipe.python.solution_base.SolutionOutputs'>\n",
      "off\n"
     ]
    },
    {
     "ename": "KeyboardInterrupt",
     "evalue": "",
     "output_type": "error",
     "traceback": [
      "\u001b[1;31m---------------------------------------------------------------------------\u001b[0m",
      "\u001b[1;31mKeyboardInterrupt\u001b[0m                         Traceback (most recent call last)",
      "\u001b[1;32m~\\AppData\\Local\\Temp/ipykernel_13468/1973130808.py\u001b[0m in \u001b[0;36m<module>\u001b[1;34m\u001b[0m\n\u001b[0;32m     93\u001b[0m             \u001b[0mspeak\u001b[0m\u001b[1;33m(\u001b[0m\u001b[1;34m\"Please trun off the light\"\u001b[0m\u001b[1;33m)\u001b[0m\u001b[1;33m\u001b[0m\u001b[1;33m\u001b[0m\u001b[0m\n\u001b[0;32m     94\u001b[0m         \u001b[1;32melse\u001b[0m\u001b[1;33m:\u001b[0m\u001b[1;33m\u001b[0m\u001b[1;33m\u001b[0m\u001b[0m\n\u001b[1;32m---> 95\u001b[1;33m             \u001b[0mspeak\u001b[0m\u001b[1;33m(\u001b[0m\u001b[1;34m\"Please trun on the light\"\u001b[0m\u001b[1;33m)\u001b[0m\u001b[1;33m\u001b[0m\u001b[1;33m\u001b[0m\u001b[0m\n\u001b[0m\u001b[0;32m     96\u001b[0m \u001b[1;33m\u001b[0m\u001b[0m\n\u001b[0;32m     97\u001b[0m \u001b[1;33m\u001b[0m\u001b[0m\n",
      "\u001b[1;32m~\\AppData\\Local\\Temp/ipykernel_13468/752657827.py\u001b[0m in \u001b[0;36mspeak\u001b[1;34m(audio)\u001b[0m\n\u001b[0;32m      6\u001b[0m \u001b[1;32mdef\u001b[0m \u001b[0mspeak\u001b[0m\u001b[1;33m(\u001b[0m\u001b[0maudio\u001b[0m\u001b[1;33m)\u001b[0m\u001b[1;33m:\u001b[0m\u001b[1;33m\u001b[0m\u001b[1;33m\u001b[0m\u001b[0m\n\u001b[0;32m      7\u001b[0m     \u001b[0mengine\u001b[0m\u001b[1;33m.\u001b[0m\u001b[0msay\u001b[0m\u001b[1;33m(\u001b[0m\u001b[0maudio\u001b[0m\u001b[1;33m)\u001b[0m\u001b[1;33m\u001b[0m\u001b[1;33m\u001b[0m\u001b[0m\n\u001b[1;32m----> 8\u001b[1;33m     \u001b[0mengine\u001b[0m\u001b[1;33m.\u001b[0m\u001b[0mrunAndWait\u001b[0m\u001b[1;33m(\u001b[0m\u001b[1;33m)\u001b[0m\u001b[1;33m\u001b[0m\u001b[1;33m\u001b[0m\u001b[0m\n\u001b[0m",
      "\u001b[1;32m~\\AppData\\Roaming\\Python\\Python39\\site-packages\\pyttsx3\\engine.py\u001b[0m in \u001b[0;36mrunAndWait\u001b[1;34m(self)\u001b[0m\n\u001b[0;32m    186\u001b[0m         \u001b[0mself\u001b[0m\u001b[1;33m.\u001b[0m\u001b[0m_inLoop\u001b[0m \u001b[1;33m=\u001b[0m \u001b[1;32mTrue\u001b[0m\u001b[1;33m\u001b[0m\u001b[1;33m\u001b[0m\u001b[0m\n\u001b[0;32m    187\u001b[0m         \u001b[0mself\u001b[0m\u001b[1;33m.\u001b[0m\u001b[0m_driverLoop\u001b[0m \u001b[1;33m=\u001b[0m \u001b[1;32mTrue\u001b[0m\u001b[1;33m\u001b[0m\u001b[1;33m\u001b[0m\u001b[0m\n\u001b[1;32m--> 188\u001b[1;33m         \u001b[0mself\u001b[0m\u001b[1;33m.\u001b[0m\u001b[0mproxy\u001b[0m\u001b[1;33m.\u001b[0m\u001b[0mrunAndWait\u001b[0m\u001b[1;33m(\u001b[0m\u001b[1;33m)\u001b[0m\u001b[1;33m\u001b[0m\u001b[1;33m\u001b[0m\u001b[0m\n\u001b[0m\u001b[0;32m    189\u001b[0m \u001b[1;33m\u001b[0m\u001b[0m\n\u001b[0;32m    190\u001b[0m     \u001b[1;32mdef\u001b[0m \u001b[0mstartLoop\u001b[0m\u001b[1;33m(\u001b[0m\u001b[0mself\u001b[0m\u001b[1;33m,\u001b[0m \u001b[0museDriverLoop\u001b[0m\u001b[1;33m=\u001b[0m\u001b[1;32mTrue\u001b[0m\u001b[1;33m)\u001b[0m\u001b[1;33m:\u001b[0m\u001b[1;33m\u001b[0m\u001b[1;33m\u001b[0m\u001b[0m\n",
      "\u001b[1;32m~\\AppData\\Roaming\\Python\\Python39\\site-packages\\pyttsx3\\driver.py\u001b[0m in \u001b[0;36mrunAndWait\u001b[1;34m(self)\u001b[0m\n\u001b[0;32m    202\u001b[0m         '''\n\u001b[0;32m    203\u001b[0m         \u001b[0mself\u001b[0m\u001b[1;33m.\u001b[0m\u001b[0m_push\u001b[0m\u001b[1;33m(\u001b[0m\u001b[0mself\u001b[0m\u001b[1;33m.\u001b[0m\u001b[0m_engine\u001b[0m\u001b[1;33m.\u001b[0m\u001b[0mendLoop\u001b[0m\u001b[1;33m,\u001b[0m \u001b[0mtuple\u001b[0m\u001b[1;33m(\u001b[0m\u001b[1;33m)\u001b[0m\u001b[1;33m)\u001b[0m\u001b[1;33m\u001b[0m\u001b[1;33m\u001b[0m\u001b[0m\n\u001b[1;32m--> 204\u001b[1;33m         \u001b[0mself\u001b[0m\u001b[1;33m.\u001b[0m\u001b[0m_driver\u001b[0m\u001b[1;33m.\u001b[0m\u001b[0mstartLoop\u001b[0m\u001b[1;33m(\u001b[0m\u001b[1;33m)\u001b[0m\u001b[1;33m\u001b[0m\u001b[1;33m\u001b[0m\u001b[0m\n\u001b[0m\u001b[0;32m    205\u001b[0m \u001b[1;33m\u001b[0m\u001b[0m\n\u001b[0;32m    206\u001b[0m     \u001b[1;32mdef\u001b[0m \u001b[0mstartLoop\u001b[0m\u001b[1;33m(\u001b[0m\u001b[0mself\u001b[0m\u001b[1;33m,\u001b[0m \u001b[0museDriverLoop\u001b[0m\u001b[1;33m)\u001b[0m\u001b[1;33m:\u001b[0m\u001b[1;33m\u001b[0m\u001b[1;33m\u001b[0m\u001b[0m\n",
      "\u001b[1;32m~\\AppData\\Roaming\\Python\\Python39\\site-packages\\pyttsx3\\drivers\\sapi5.py\u001b[0m in \u001b[0;36mstartLoop\u001b[1;34m(self)\u001b[0m\n\u001b[0;32m    108\u001b[0m                 \u001b[0mfirst\u001b[0m \u001b[1;33m=\u001b[0m \u001b[1;32mFalse\u001b[0m\u001b[1;33m\u001b[0m\u001b[1;33m\u001b[0m\u001b[0m\n\u001b[0;32m    109\u001b[0m             \u001b[0mpythoncom\u001b[0m\u001b[1;33m.\u001b[0m\u001b[0mPumpWaitingMessages\u001b[0m\u001b[1;33m(\u001b[0m\u001b[1;33m)\u001b[0m\u001b[1;33m\u001b[0m\u001b[1;33m\u001b[0m\u001b[0m\n\u001b[1;32m--> 110\u001b[1;33m             \u001b[0mtime\u001b[0m\u001b[1;33m.\u001b[0m\u001b[0msleep\u001b[0m\u001b[1;33m(\u001b[0m\u001b[1;36m0.05\u001b[0m\u001b[1;33m)\u001b[0m\u001b[1;33m\u001b[0m\u001b[1;33m\u001b[0m\u001b[0m\n\u001b[0m\u001b[0;32m    111\u001b[0m \u001b[1;33m\u001b[0m\u001b[0m\n\u001b[0;32m    112\u001b[0m     \u001b[1;32mdef\u001b[0m \u001b[0mendLoop\u001b[0m\u001b[1;33m(\u001b[0m\u001b[0mself\u001b[0m\u001b[1;33m)\u001b[0m\u001b[1;33m:\u001b[0m\u001b[1;33m\u001b[0m\u001b[1;33m\u001b[0m\u001b[0m\n",
      "\u001b[1;31mKeyboardInterrupt\u001b[0m: "
     ]
    }
   ],
   "source": [
    "#1. New detection variables\n",
    "sequence=[] #Collect 30 frames\n",
    "sentence=[] #Conacdinate history togather\n",
    "threshold=0.7\n",
    "\n",
    "# cap=cv2.VideoCapture(0)\n",
    "# #Set mediapipe model\n",
    "# with mp_holistic.Holistic(min_detection_confidence=0.5, min_tracking_confidence=0.5) as holistic:\n",
    "#     while cap.isOpened():\n",
    "#        #Read feed\n",
    "#        ret,frame=cap.read()\n",
    "#        #Make detections\n",
    "#        image,results=mediapipe_detection(frame,holistic)\n",
    "# #        print(results)\n",
    "#        #Draw Landmarks\n",
    "#        draw_styled_landmarks(image,results)\n",
    "        \n",
    "#         # 2. Prediction logic\n",
    "#        keypoints = extract_keypoints(results)\n",
    "# #         sequence.insert(0,keypoints)\n",
    "# #         sequence = sequence[:30]\n",
    "#        sequence.append(keypoints)\n",
    "#        sequence = sequence[-30:]\n",
    "        \n",
    "#        if len(sequence) == 30:\n",
    "#             res = model.predict(np.expand_dims(sequence, axis=0))[0]\n",
    "#             print(actions[np.argmax(res)])\n",
    "            \n",
    "        \n",
    "#        #Show to screen\n",
    "#        cv2.imshow('OpenCV Feed',image)\n",
    "#        #Break gracefully\n",
    "#       if cv2.waitkey(10)&0xFF == ord('q'):\n",
    "#              break\n",
    "#     cap.release()\n",
    "#     cv2.destroyAllwindows()\n",
    "    \n",
    "    \n",
    "# 1. New detection variables\n",
    "# sequence = []\n",
    "# sentence = []\n",
    "# threshold = 0.8\n",
    "\n",
    "cap = cv2.VideoCapture(0)\n",
    "# Set mediapipe model \n",
    "with mp_holistic.Holistic(min_detection_confidence=0.5, min_tracking_confidence=0.5) as holistic:\n",
    "    while cap.isOpened():\n",
    "\n",
    "        # Read feed\n",
    "        ret, frame = cap.read()\n",
    "\n",
    "        # Make detections\n",
    "        image, results = mediapipe_detection(frame, holistic)\n",
    "        print(results)\n",
    "        \n",
    "        # Draw landmarks\n",
    "        draw_styled_landmarks(image, results)\n",
    "        \n",
    "        # 2. Prediction logic\n",
    "        keypoints = extract_keypoints(results)\n",
    "#         sequence.insert(0,keypoints)\n",
    "#         sequence = sequence[:30]\n",
    "        sequence.append(keypoints)\n",
    "        sequence = sequence[-30:]\n",
    "        \n",
    "        if len(sequence) == 30:\n",
    "            res = model.predict(np.expand_dims(sequence, axis=0))[0]\n",
    "            print(actions[np.argmax(res)])\n",
    "            \n",
    "            \n",
    "        #3. Viz logic\n",
    "            if res[np.argmax(res)] > threshold: \n",
    "                if len(sentence) > 0: \n",
    "                    if actions[np.argmax(res)] != sentence[-1]: #current sent doest not == last sentence\n",
    "                        sentence.append(actions[np.argmax(res)]) # no duplicate sentence\n",
    "                else:\n",
    "                    sentence.append(actions[np.argmax(res)])\n",
    "\n",
    "            if len(sentence) > 5: \n",
    "                sentence = sentence[-5:]\n",
    "\n",
    "            # Viz probabilities\n",
    "#             image = prob_viz(res, actions, image, colors)\n",
    "        if  len(sentence) == 0:   \n",
    "            cv2.rectangle(image, (0,0), (100, 60), (0,0,0), -1)\n",
    "            cv2.putText(image, ' '.join(sentence), (5,50), \n",
    "                           cv2.FONT_HERSHEY_COMPLEX, 2, (255, 255, 255), 3, cv2.LINE_AA)\n",
    "        else:\n",
    "            cv2.rectangle(image, (0,0), (100, 60), (0,0,0), -1)\n",
    "            cv2.putText(image, ' '.join(sentence[-1]), (5,50), \n",
    "                           cv2.FONT_HERSHEY_COMPLEX, 2, (255, 255, 255), 3, cv2.LINE_AA)\n",
    "        if np.argmax(res) == 0:\n",
    "            speak(\"Please trun off the light\")\n",
    "        else:\n",
    "            speak(\"Please trun on the light\")\n",
    "            \n",
    "        \n",
    "        # Show to screen\n",
    "        cv2.imshow('OpenCV Feed', image)\n",
    "\n",
    "        # Break gracefully\n",
    "        if cv2.waitKey(10) & 0xFF == ord('q'):\n",
    "            break\n",
    "    cap.release()\n",
    "    cv2.destroyAllWindows()"
   ]
  },
  {
   "cell_type": "code",
   "execution_count": 106,
   "id": "ab5564da",
   "metadata": {},
   "outputs": [
    {
     "data": {
      "text/plain": [
       "(1, 30, 1662)"
      ]
     },
     "execution_count": 106,
     "metadata": {},
     "output_type": "execute_result"
    }
   ],
   "source": [
    "np.expand_dims(X_test[0],axis=0).shape"
   ]
  },
  {
   "cell_type": "code",
   "execution_count": 111,
   "id": "e7a58b0f",
   "metadata": {},
   "outputs": [
    {
     "data": {
      "text/plain": [
       "(30, 30, 1662)"
      ]
     },
     "execution_count": 111,
     "metadata": {},
     "output_type": "execute_result"
    }
   ],
   "source": [
    "(no_sequences,30,1662)"
   ]
  },
  {
   "cell_type": "code",
   "execution_count": 112,
   "id": "b50c4cc6",
   "metadata": {},
   "outputs": [
    {
     "data": {
      "text/plain": [
       "array([[1.34041430e-02, 1.18546595e-05, 9.86584008e-01]], dtype=float32)"
      ]
     },
     "execution_count": 112,
     "metadata": {},
     "output_type": "execute_result"
    }
   ],
   "source": [
    "model.predict(np.expand_dims(X_test[0],axis=0)) # predict 1 sequence at a time\n"
   ]
  },
  {
   "cell_type": "code",
   "execution_count": 2,
   "id": "3ab1ec6d",
   "metadata": {},
   "outputs": [
    {
     "ename": "NameError",
     "evalue": "name 'cap' is not defined",
     "output_type": "error",
     "traceback": [
      "\u001b[1;31m---------------------------------------------------------------------------\u001b[0m",
      "\u001b[1;31mNameError\u001b[0m                                 Traceback (most recent call last)",
      "\u001b[1;32m~\\AppData\\Local\\Temp/ipykernel_29152/79584206.py\u001b[0m in \u001b[0;36m<module>\u001b[1;34m\u001b[0m\n\u001b[1;32m----> 1\u001b[1;33m \u001b[0mcap\u001b[0m\u001b[1;33m.\u001b[0m\u001b[0mrelease\u001b[0m\u001b[1;33m(\u001b[0m\u001b[1;33m)\u001b[0m\u001b[1;33m\u001b[0m\u001b[1;33m\u001b[0m\u001b[0m\n\u001b[0m\u001b[0;32m      2\u001b[0m \u001b[0mcv2\u001b[0m\u001b[1;33m.\u001b[0m\u001b[0mdestroyAllWindows\u001b[0m\u001b[1;33m(\u001b[0m\u001b[1;33m)\u001b[0m\u001b[1;33m\u001b[0m\u001b[1;33m\u001b[0m\u001b[0m\n",
      "\u001b[1;31mNameError\u001b[0m: name 'cap' is not defined"
     ]
    }
   ],
   "source": []
  },
  {
   "cell_type": "code",
   "execution_count": 109,
   "id": "52f03a8b",
   "metadata": {},
   "outputs": [],
   "source": [
    "speak(\"Please trun off the light\")"
   ]
  },
  {
   "cell_type": "code",
   "execution_count": 100,
   "id": "94dd2dc6",
   "metadata": {},
   "outputs": [],
   "source": []
  },
  {
   "cell_type": "code",
   "execution_count": null,
   "id": "c3a12c3a",
   "metadata": {},
   "outputs": [],
   "source": []
  }
 ],
 "metadata": {
  "kernelspec": {
   "display_name": "Python 3 (ipykernel)",
   "language": "python",
   "name": "python3"
  },
  "language_info": {
   "codemirror_mode": {
    "name": "ipython",
    "version": 3
   },
   "file_extension": ".py",
   "mimetype": "text/x-python",
   "name": "python",
   "nbconvert_exporter": "python",
   "pygments_lexer": "ipython3",
   "version": "3.9.6"
  }
 },
 "nbformat": 4,
 "nbformat_minor": 5
}
